{
 "cells": [
  {
   "cell_type": "code",
   "execution_count": 254,
   "id": "93b0228a",
   "metadata": {},
   "outputs": [
    {
     "ename": "SyntaxError",
     "evalue": "invalid syntax (1993537901.py, line 1)",
     "output_type": "error",
     "traceback": [
      "\u001b[1;36m  File \u001b[1;32m\"C:\\Users\\acerm\\AppData\\Local\\Temp\\ipykernel_6560\\1993537901.py\"\u001b[1;36m, line \u001b[1;32m1\u001b[0m\n\u001b[1;33m    jupyter nbconvert --to=script notebook.ipynb\u001b[0m\n\u001b[1;37m            ^\u001b[0m\n\u001b[1;31mSyntaxError\u001b[0m\u001b[1;31m:\u001b[0m invalid syntax\n"
     ]
    }
   ],
   "source": [
    "jupyter nbconvert --to=script notebook.ipynb"
   ]
  },
  {
   "cell_type": "code",
   "execution_count": 2,
   "id": "6c7f7a9e",
   "metadata": {},
   "outputs": [
    {
     "name": "stdout",
     "output_type": "stream",
     "text": [
      "Requirement already satisfied: pyspark in c:\\users\\acerm\\anaconda3\\lib\\site-packages (3.3.1)\n",
      "Requirement already satisfied: py4j==0.10.9.5 in c:\\users\\acerm\\anaconda3\\lib\\site-packages (from pyspark) (0.10.9.5)\n",
      "Note: you may need to restart the kernel to use updated packages.\n"
     ]
    }
   ],
   "source": [
    "pip install pyspark"
   ]
  },
  {
   "cell_type": "code",
   "execution_count": 1,
   "id": "e7f1ddfe",
   "metadata": {},
   "outputs": [
    {
     "name": "stdout",
     "output_type": "stream",
     "text": [
      "Requirement already satisfied: pandas in c:\\users\\acerm\\anaconda3\\lib\\site-packages (1.4.4)\n",
      "Requirement already satisfied: python-dateutil>=2.8.1 in c:\\users\\acerm\\anaconda3\\lib\\site-packages (from pandas) (2.8.2)\n",
      "Requirement already satisfied: numpy>=1.18.5 in c:\\users\\acerm\\anaconda3\\lib\\site-packages (from pandas) (1.21.5)\n",
      "Requirement already satisfied: pytz>=2020.1 in c:\\users\\acerm\\anaconda3\\lib\\site-packages (from pandas) (2022.1)\n",
      "Requirement already satisfied: six>=1.5 in c:\\users\\acerm\\anaconda3\\lib\\site-packages (from python-dateutil>=2.8.1->pandas) (1.16.0)\n",
      "Note: you may need to restart the kernel to use updated packages.\n"
     ]
    }
   ],
   "source": [
    "pip install pandas"
   ]
  },
  {
   "cell_type": "code",
   "execution_count": 6,
   "id": "9fe005e3",
   "metadata": {},
   "outputs": [
    {
     "name": "stdout",
     "output_type": "stream",
     "text": [
      "Collecting findspark\n",
      "  Using cached findspark-2.0.1-py2.py3-none-any.whl (4.4 kB)\n",
      "Installing collected packages: findspark\n",
      "Successfully installed findspark-2.0.1\n",
      "Note: you may need to restart the kernel to use updated packages.\n"
     ]
    }
   ],
   "source": [
    "pip install findspark"
   ]
  },
  {
   "cell_type": "code",
   "execution_count": 255,
   "id": "ae20a9a9",
   "metadata": {},
   "outputs": [
    {
     "name": "stdout",
     "output_type": "stream",
     "text": [
      "Requirement already satisfied: nbconvert in c:\\users\\acerm\\anaconda3\\lib\\site-packages (6.4.4)\n",
      "Requirement already satisfied: defusedxml in c:\\users\\acerm\\anaconda3\\lib\\site-packages (from nbconvert) (0.7.1)\n",
      "Requirement already satisfied: nbformat>=4.4 in c:\\users\\acerm\\anaconda3\\lib\\site-packages (from nbconvert) (5.5.0)\n",
      "Requirement already satisfied: nbclient<0.6.0,>=0.5.0 in c:\\users\\acerm\\anaconda3\\lib\\site-packages (from nbconvert) (0.5.13)\n",
      "Requirement already satisfied: mistune<2,>=0.8.1 in c:\\users\\acerm\\anaconda3\\lib\\site-packages (from nbconvert) (0.8.4)\n",
      "Requirement already satisfied: jupyterlab-pygments in c:\\users\\acerm\\anaconda3\\lib\\site-packages (from nbconvert) (0.1.2)\n",
      "Requirement already satisfied: pandocfilters>=1.4.1 in c:\\users\\acerm\\anaconda3\\lib\\site-packages (from nbconvert) (1.5.0)\n",
      "Requirement already satisfied: beautifulsoup4 in c:\\users\\acerm\\anaconda3\\lib\\site-packages (from nbconvert) (4.11.1)\n",
      "Requirement already satisfied: entrypoints>=0.2.2 in c:\\users\\acerm\\anaconda3\\lib\\site-packages (from nbconvert) (0.4)\n",
      "Requirement already satisfied: traitlets>=5.0 in c:\\users\\acerm\\anaconda3\\lib\\site-packages (from nbconvert) (5.1.1)\n",
      "Requirement already satisfied: testpath in c:\\users\\acerm\\anaconda3\\lib\\site-packages (from nbconvert) (0.6.0)\n",
      "Requirement already satisfied: jupyter-core in c:\\users\\acerm\\anaconda3\\lib\\site-packages (from nbconvert) (4.11.1)\n",
      "Requirement already satisfied: jinja2>=2.4 in c:\\users\\acerm\\anaconda3\\lib\\site-packages (from nbconvert) (2.11.3)\n",
      "Requirement already satisfied: bleach in c:\\users\\acerm\\anaconda3\\lib\\site-packages (from nbconvert) (4.1.0)\n",
      "Requirement already satisfied: pygments>=2.4.1 in c:\\users\\acerm\\anaconda3\\lib\\site-packages (from nbconvert) (2.11.2)\n",
      "Requirement already satisfied: MarkupSafe>=0.23 in c:\\users\\acerm\\anaconda3\\lib\\site-packages (from jinja2>=2.4->nbconvert) (2.0.1)\n",
      "Requirement already satisfied: nest-asyncio in c:\\users\\acerm\\anaconda3\\lib\\site-packages (from nbclient<0.6.0,>=0.5.0->nbconvert) (1.5.5)\n",
      "Requirement already satisfied: jupyter-client>=6.1.5 in c:\\users\\acerm\\anaconda3\\lib\\site-packages (from nbclient<0.6.0,>=0.5.0->nbconvert) (7.3.4)\n",
      "Requirement already satisfied: jsonschema>=2.6 in c:\\users\\acerm\\anaconda3\\lib\\site-packages (from nbformat>=4.4->nbconvert) (4.16.0)\n",
      "Requirement already satisfied: fastjsonschema in c:\\users\\acerm\\anaconda3\\lib\\site-packages (from nbformat>=4.4->nbconvert) (2.16.2)\n",
      "Requirement already satisfied: soupsieve>1.2 in c:\\users\\acerm\\anaconda3\\lib\\site-packages (from beautifulsoup4->nbconvert) (2.3.1)\n",
      "Requirement already satisfied: six>=1.9.0 in c:\\users\\acerm\\anaconda3\\lib\\site-packages (from bleach->nbconvert) (1.16.0)\n",
      "Requirement already satisfied: webencodings in c:\\users\\acerm\\anaconda3\\lib\\site-packages (from bleach->nbconvert) (0.5.1)\n",
      "Requirement already satisfied: packaging in c:\\users\\acerm\\anaconda3\\lib\\site-packages (from bleach->nbconvert) (21.3)\n",
      "Requirement already satisfied: pywin32>=1.0 in c:\\users\\acerm\\anaconda3\\lib\\site-packages (from jupyter-core->nbconvert) (302)\n",
      "Requirement already satisfied: pyrsistent!=0.17.0,!=0.17.1,!=0.17.2,>=0.14.0 in c:\\users\\acerm\\anaconda3\\lib\\site-packages (from jsonschema>=2.6->nbformat>=4.4->nbconvert) (0.18.0)\n",
      "Requirement already satisfied: attrs>=17.4.0 in c:\\users\\acerm\\anaconda3\\lib\\site-packages (from jsonschema>=2.6->nbformat>=4.4->nbconvert) (21.4.0)\n",
      "Requirement already satisfied: pyzmq>=23.0 in c:\\users\\acerm\\anaconda3\\lib\\site-packages (from jupyter-client>=6.1.5->nbclient<0.6.0,>=0.5.0->nbconvert) (23.2.0)\n",
      "Requirement already satisfied: python-dateutil>=2.8.2 in c:\\users\\acerm\\anaconda3\\lib\\site-packages (from jupyter-client>=6.1.5->nbclient<0.6.0,>=0.5.0->nbconvert) (2.8.2)\n",
      "Requirement already satisfied: tornado>=6.0 in c:\\users\\acerm\\anaconda3\\lib\\site-packages (from jupyter-client>=6.1.5->nbclient<0.6.0,>=0.5.0->nbconvert) (6.1)\n",
      "Requirement already satisfied: pyparsing!=3.0.5,>=2.0.2 in c:\\users\\acerm\\anaconda3\\lib\\site-packages (from packaging->bleach->nbconvert) (3.0.9)\n",
      "Note: you may need to restart the kernel to use updated packages.\n"
     ]
    }
   ],
   "source": [
    "pip install nbconvert"
   ]
  },
  {
   "cell_type": "code",
   "execution_count": 1,
   "id": "b0336e88",
   "metadata": {},
   "outputs": [
    {
     "name": "stdout",
     "output_type": "stream",
     "text": [
      "Start project\n"
     ]
    }
   ],
   "source": [
    "import os\n",
    "import findspark\n",
    "import warnings\n",
    "warnings.filterwarnings('ignore')\n",
    "import matplotlib.pyplot as plt\n",
    "%matplotlib inline\n",
    "import pandas as pd\n",
    "#pd.options.display.mpl_style = 'default'\n",
    "import numpy as np\n",
    "from pyspark.sql.types import *\n",
    "from pyspark.sql import Row\n",
    "import seaborn as sns\n",
    "from pyspark import SparkContext\n",
    "from pyspark import SQLContext\n",
    "from pyspark.sql import SparkSession\n",
    "from sklearn import *\n",
    "from sklearn.preprocessing import StandardScaler\n",
    "from sklearn.linear_model import LinearRegression, Ridge\n",
    "from sklearn.ensemble import RandomForestRegressor\n",
    "from sklearn.svm import SVR\n",
    "from sklearn.model_selection import train_test_split\n",
    "from sklearn.metrics import mean_squared_log_error\n",
    "import math\n",
    "findspark.init()\n",
    "\n",
    "spark = SparkSession.builder \\\n",
    "        .appName(\"Gasoline Production\") \\\n",
    "        .master(\"local[*]\") \\\n",
    "        .getOrCreate()\n",
    "\n",
    "print(\"Start project\")\n",
    "\n",
    "\n"
   ]
  },
  {
   "cell_type": "code",
   "execution_count": 3,
   "id": "f52e1b8d",
   "metadata": {},
   "outputs": [
    {
     "name": "stdout",
     "output_type": "stream",
     "text": [
      "C:\\Users\\acerm\\de_project\\gasprice\\weekly-gasoline.csv\n"
     ]
    }
   ],
   "source": [
    "cwd = os.getcwd()\n",
    "GET_DIR = os.path.dirname(cwd)\n",
    "CUR_DIR = os.path.join(GET_DIR, r\"C:\\Users\\acerm\\de_project\\gasprice\\weekly-gasoline.csv\")\n",
    "print(os.listdir(CUR_DIR))"
   ]
  },
  {
   "cell_type": "code",
   "execution_count": 196,
   "id": "b181cb5b",
   "metadata": {},
   "outputs": [],
   "source": [
    "df = pd.read_csv(r\"\\Users\\acerm\\de_project\\gasprice\\weekly-gasoline.csv\")"
   ]
  },
  {
   "cell_type": "code",
   "execution_count": 197,
   "id": "1f6f0e74",
   "metadata": {},
   "outputs": [
    {
     "data": {
      "text/html": [
       "<div>\n",
       "<style scoped>\n",
       "    .dataframe tbody tr th:only-of-type {\n",
       "        vertical-align: middle;\n",
       "    }\n",
       "\n",
       "    .dataframe tbody tr th {\n",
       "        vertical-align: top;\n",
       "    }\n",
       "\n",
       "    .dataframe thead th {\n",
       "        text-align: right;\n",
       "    }\n",
       "</style>\n",
       "<table border=\"1\" class=\"dataframe\">\n",
       "  <thead>\n",
       "    <tr style=\"text-align: right;\">\n",
       "      <th></th>\n",
       "      <th>Fiscal Year</th>\n",
       "      <th>Fiscal Week</th>\n",
       "      <th>Current Year Production</th>\n",
       "      <th>Previous Year Production</th>\n",
       "      <th>Difference From Same Week Last Year</th>\n",
       "      <th>Current Year Cumulative Production</th>\n",
       "      <th>Cumulative Difference</th>\n",
       "    </tr>\n",
       "  </thead>\n",
       "  <tbody>\n",
       "    <tr>\n",
       "      <th>0</th>\n",
       "      <td>2023</td>\n",
       "      <td>16</td>\n",
       "      <td>2393748000</td>\n",
       "      <td>2417856000</td>\n",
       "      <td>-24108000</td>\n",
       "      <td>39649722000</td>\n",
       "      <td>-3024672000</td>\n",
       "    </tr>\n",
       "    <tr>\n",
       "      <th>1</th>\n",
       "      <td>2023</td>\n",
       "      <td>15</td>\n",
       "      <td>2367876000</td>\n",
       "      <td>2324364000</td>\n",
       "      <td>43512000</td>\n",
       "      <td>37255974000</td>\n",
       "      <td>-3000564000</td>\n",
       "    </tr>\n",
       "    <tr>\n",
       "      <th>2</th>\n",
       "      <td>2023</td>\n",
       "      <td>14</td>\n",
       "      <td>2222052000</td>\n",
       "      <td>2402568000</td>\n",
       "      <td>-180516000</td>\n",
       "      <td>34888098000</td>\n",
       "      <td>-3044076000</td>\n",
       "    </tr>\n",
       "    <tr>\n",
       "      <th>3</th>\n",
       "      <td>2023</td>\n",
       "      <td>13</td>\n",
       "      <td>2209116000</td>\n",
       "      <td>2858856000</td>\n",
       "      <td>-649740000</td>\n",
       "      <td>32666046000</td>\n",
       "      <td>-2863560000</td>\n",
       "    </tr>\n",
       "    <tr>\n",
       "      <th>4</th>\n",
       "      <td>2023</td>\n",
       "      <td>12</td>\n",
       "      <td>2742138000</td>\n",
       "      <td>2641884000</td>\n",
       "      <td>100254000</td>\n",
       "      <td>30456930000</td>\n",
       "      <td>-2213820000</td>\n",
       "    </tr>\n",
       "    <tr>\n",
       "      <th>...</th>\n",
       "      <td>...</td>\n",
       "      <td>...</td>\n",
       "      <td>...</td>\n",
       "      <td>...</td>\n",
       "      <td>...</td>\n",
       "      <td>...</td>\n",
       "      <td>...</td>\n",
       "    </tr>\n",
       "    <tr>\n",
       "      <th>95</th>\n",
       "      <td>2021</td>\n",
       "      <td>26</td>\n",
       "      <td>2613954000</td>\n",
       "      <td>1957746000</td>\n",
       "      <td>656208000</td>\n",
       "      <td>62466474000</td>\n",
       "      <td>-6394206000</td>\n",
       "    </tr>\n",
       "    <tr>\n",
       "      <th>96</th>\n",
       "      <td>2021</td>\n",
       "      <td>25</td>\n",
       "      <td>2533104000</td>\n",
       "      <td>2598078000</td>\n",
       "      <td>-64974000</td>\n",
       "      <td>59852520000</td>\n",
       "      <td>-7050414000</td>\n",
       "    </tr>\n",
       "    <tr>\n",
       "      <th>97</th>\n",
       "      <td>2021</td>\n",
       "      <td>24</td>\n",
       "      <td>2481948000</td>\n",
       "      <td>2850624000</td>\n",
       "      <td>-368676000</td>\n",
       "      <td>57319416000</td>\n",
       "      <td>-6985440000</td>\n",
       "    </tr>\n",
       "    <tr>\n",
       "      <th>98</th>\n",
       "      <td>2021</td>\n",
       "      <td>23</td>\n",
       "      <td>2565444000</td>\n",
       "      <td>2778006000</td>\n",
       "      <td>-212562000</td>\n",
       "      <td>54837468000</td>\n",
       "      <td>'-6616764000</td>\n",
       "    </tr>\n",
       "    <tr>\n",
       "      <th>99</th>\n",
       "      <td>2021</td>\n",
       "      <td>22</td>\n",
       "      <td>2395512000</td>\n",
       "      <td>2700684000</td>\n",
       "      <td>'-305172000</td>\n",
       "      <td>52272024000</td>\n",
       "      <td>'-6404202000</td>\n",
       "    </tr>\n",
       "  </tbody>\n",
       "</table>\n",
       "<p>100 rows × 7 columns</p>\n",
       "</div>"
      ],
      "text/plain": [
       "    Fiscal Year  Fiscal Week  Current Year Production  \\\n",
       "0          2023           16               2393748000   \n",
       "1          2023           15               2367876000   \n",
       "2          2023           14               2222052000   \n",
       "3          2023           13               2209116000   \n",
       "4          2023           12               2742138000   \n",
       "..          ...          ...                      ...   \n",
       "95         2021           26               2613954000   \n",
       "96         2021           25               2533104000   \n",
       "97         2021           24               2481948000   \n",
       "98         2021           23               2565444000   \n",
       "99         2021           22               2395512000   \n",
       "\n",
       "    Previous Year Production Difference From Same Week Last Year  \\\n",
       "0                 2417856000                           -24108000   \n",
       "1                 2324364000                            43512000   \n",
       "2                 2402568000                          -180516000   \n",
       "3                 2858856000                          -649740000   \n",
       "4                 2641884000                           100254000   \n",
       "..                       ...                                 ...   \n",
       "95                1957746000                           656208000   \n",
       "96                2598078000                           -64974000   \n",
       "97                2850624000                          -368676000   \n",
       "98                2778006000                          -212562000   \n",
       "99                2700684000                         '-305172000   \n",
       "\n",
       "    Current Year Cumulative Production Cumulative Difference  \n",
       "0                          39649722000           -3024672000  \n",
       "1                          37255974000           -3000564000  \n",
       "2                          34888098000           -3044076000  \n",
       "3                          32666046000           -2863560000  \n",
       "4                          30456930000           -2213820000  \n",
       "..                                 ...                   ...  \n",
       "95                         62466474000           -6394206000  \n",
       "96                         59852520000           -7050414000  \n",
       "97                         57319416000           -6985440000  \n",
       "98                         54837468000          '-6616764000  \n",
       "99                         52272024000          '-6404202000  \n",
       "\n",
       "[100 rows x 7 columns]"
      ]
     },
     "execution_count": 197,
     "metadata": {},
     "output_type": "execute_result"
    }
   ],
   "source": [
    "df.head(100)"
   ]
  },
  {
   "cell_type": "code",
   "execution_count": 198,
   "id": "2331ba1f",
   "metadata": {},
   "outputs": [
    {
     "data": {
      "text/plain": [
       "Fiscal Year                             int64\n",
       "Fiscal Week                             int64\n",
       "Current Year Production                 int64\n",
       "Previous Year Production                int64\n",
       "Difference From Same Week Last Year    object\n",
       "Current Year Cumulative Production      int64\n",
       "Cumulative Difference                  object\n",
       "dtype: object"
      ]
     },
     "execution_count": 198,
     "metadata": {},
     "output_type": "execute_result"
    }
   ],
   "source": [
    "df.dtypes"
   ]
  },
  {
   "cell_type": "code",
   "execution_count": 199,
   "id": "5a14733a",
   "metadata": {},
   "outputs": [
    {
     "data": {
      "text/html": [
       "<div>\n",
       "<style scoped>\n",
       "    .dataframe tbody tr th:only-of-type {\n",
       "        vertical-align: middle;\n",
       "    }\n",
       "\n",
       "    .dataframe tbody tr th {\n",
       "        vertical-align: top;\n",
       "    }\n",
       "\n",
       "    .dataframe thead th {\n",
       "        text-align: right;\n",
       "    }\n",
       "</style>\n",
       "<table border=\"1\" class=\"dataframe\">\n",
       "  <thead>\n",
       "    <tr style=\"text-align: right;\">\n",
       "      <th></th>\n",
       "      <th>Fiscal Year</th>\n",
       "      <th>Fiscal Week</th>\n",
       "      <th>Current Year Production</th>\n",
       "      <th>Previous Year Production</th>\n",
       "      <th>Current Year Cumulative Production</th>\n",
       "    </tr>\n",
       "  </thead>\n",
       "  <tbody>\n",
       "    <tr>\n",
       "      <th>count</th>\n",
       "      <td>173.000000</td>\n",
       "      <td>173.000000</td>\n",
       "      <td>1.730000e+02</td>\n",
       "      <td>1.730000e+02</td>\n",
       "      <td>1.730000e+02</td>\n",
       "    </tr>\n",
       "    <tr>\n",
       "      <th>mean</th>\n",
       "      <td>2021.190751</td>\n",
       "      <td>24.988439</td>\n",
       "      <td>2.539688e+09</td>\n",
       "      <td>2.580181e+09</td>\n",
       "      <td>6.354951e+10</td>\n",
       "    </tr>\n",
       "    <tr>\n",
       "      <th>std</th>\n",
       "      <td>0.972605</td>\n",
       "      <td>15.433650</td>\n",
       "      <td>2.351308e+08</td>\n",
       "      <td>3.182352e+08</td>\n",
       "      <td>3.890603e+10</td>\n",
       "    </tr>\n",
       "    <tr>\n",
       "      <th>min</th>\n",
       "      <td>2020.000000</td>\n",
       "      <td>1.000000</td>\n",
       "      <td>1.489110e+09</td>\n",
       "      <td>0.000000e+00</td>\n",
       "      <td>2.433144e+09</td>\n",
       "    </tr>\n",
       "    <tr>\n",
       "      <th>25%</th>\n",
       "      <td>2020.000000</td>\n",
       "      <td>11.000000</td>\n",
       "      <td>2.450784e+09</td>\n",
       "      <td>2.516052e+09</td>\n",
       "      <td>3.002887e+10</td>\n",
       "    </tr>\n",
       "    <tr>\n",
       "      <th>50%</th>\n",
       "      <td>2021.000000</td>\n",
       "      <td>24.000000</td>\n",
       "      <td>2.576028e+09</td>\n",
       "      <td>2.655408e+09</td>\n",
       "      <td>6.145423e+10</td>\n",
       "    </tr>\n",
       "    <tr>\n",
       "      <th>75%</th>\n",
       "      <td>2022.000000</td>\n",
       "      <td>38.000000</td>\n",
       "      <td>2.696862e+09</td>\n",
       "      <td>2.750076e+09</td>\n",
       "      <td>9.689564e+10</td>\n",
       "    </tr>\n",
       "    <tr>\n",
       "      <th>max</th>\n",
       "      <td>2023.000000</td>\n",
       "      <td>53.000000</td>\n",
       "      <td>2.952642e+09</td>\n",
       "      <td>2.952642e+09</td>\n",
       "      <td>1.380000e+11</td>\n",
       "    </tr>\n",
       "  </tbody>\n",
       "</table>\n",
       "</div>"
      ],
      "text/plain": [
       "       Fiscal Year  Fiscal Week  Current Year Production  \\\n",
       "count   173.000000   173.000000             1.730000e+02   \n",
       "mean   2021.190751    24.988439             2.539688e+09   \n",
       "std       0.972605    15.433650             2.351308e+08   \n",
       "min    2020.000000     1.000000             1.489110e+09   \n",
       "25%    2020.000000    11.000000             2.450784e+09   \n",
       "50%    2021.000000    24.000000             2.576028e+09   \n",
       "75%    2022.000000    38.000000             2.696862e+09   \n",
       "max    2023.000000    53.000000             2.952642e+09   \n",
       "\n",
       "       Previous Year Production  Current Year Cumulative Production  \n",
       "count              1.730000e+02                        1.730000e+02  \n",
       "mean               2.580181e+09                        6.354951e+10  \n",
       "std                3.182352e+08                        3.890603e+10  \n",
       "min                0.000000e+00                        2.433144e+09  \n",
       "25%                2.516052e+09                        3.002887e+10  \n",
       "50%                2.655408e+09                        6.145423e+10  \n",
       "75%                2.750076e+09                        9.689564e+10  \n",
       "max                2.952642e+09                        1.380000e+11  "
      ]
     },
     "execution_count": 199,
     "metadata": {},
     "output_type": "execute_result"
    }
   ],
   "source": [
    "df.describe()"
   ]
  },
  {
   "cell_type": "code",
   "execution_count": 200,
   "id": "78baf13a",
   "metadata": {},
   "outputs": [
    {
     "data": {
      "text/plain": [
       "(173, 7)"
      ]
     },
     "execution_count": 200,
     "metadata": {},
     "output_type": "execute_result"
    }
   ],
   "source": [
    "df.shape\n"
   ]
  },
  {
   "cell_type": "code",
   "execution_count": 201,
   "id": "bfd287a3",
   "metadata": {
    "scrolled": true
   },
   "outputs": [
    {
     "name": "stdout",
     "output_type": "stream",
     "text": [
      "<class 'pandas.core.frame.DataFrame'>\n",
      "RangeIndex: 173 entries, 0 to 172\n",
      "Data columns (total 7 columns):\n",
      " #   Column                               Non-Null Count  Dtype \n",
      "---  ------                               --------------  ----- \n",
      " 0   Fiscal Year                          173 non-null    int64 \n",
      " 1   Fiscal Week                          173 non-null    int64 \n",
      " 2   Current Year Production              173 non-null    int64 \n",
      " 3   Previous Year Production             173 non-null    int64 \n",
      " 4   Difference From Same Week Last Year  172 non-null    object\n",
      " 5   Current Year Cumulative Production   173 non-null    int64 \n",
      " 6   Cumulative Difference                173 non-null    object\n",
      "dtypes: int64(5), object(2)\n",
      "memory usage: 9.6+ KB\n"
     ]
    }
   ],
   "source": [
    "df.info()"
   ]
  },
  {
   "cell_type": "markdown",
   "id": "2fbd4797",
   "metadata": {},
   "source": [
    "# Preprocessing the data"
   ]
  },
  {
   "cell_type": "code",
   "execution_count": 205,
   "id": "8901e754",
   "metadata": {},
   "outputs": [],
   "source": [
    "df['Cumulative Difference'] = pd.to_numeric(df['Cumulative Difference'], errors='coerce')\n",
    "df['Difference From Same Week Last Year'] =pd.to_numeric(df['Difference From Same Week Last Year'], errors='coerce')\n"
   ]
  },
  {
   "cell_type": "code",
   "execution_count": 206,
   "id": "f271dc6b",
   "metadata": {},
   "outputs": [
    {
     "data": {
      "text/plain": [
       "Fiscal Year                              int64\n",
       "Fiscal Week                              int64\n",
       "Current Year Production                  int64\n",
       "Previous Year Production                 int64\n",
       "Difference From Same Week Last Year    float64\n",
       "Current Year Cumulative Production       int64\n",
       "Cumulative Difference                  float64\n",
       "dtype: object"
      ]
     },
     "execution_count": 206,
     "metadata": {},
     "output_type": "execute_result"
    }
   ],
   "source": [
    "df.dtypes\n"
   ]
  },
  {
   "cell_type": "code",
   "execution_count": 207,
   "id": "e559c7e8",
   "metadata": {},
   "outputs": [
    {
     "data": {
      "image/png": "[encoded data removed]",
      "text/plain": [
       "<Figure size 1100x800 with 1 Axes>"
      ]
     },
     "metadata": {},
     "output_type": "display_data"
    }
   ],
   "source": [
    "plt.figure(figsize=(11, 8)) # resizing the plot\n",
    "df['Current Year Production'].plot()\n",
    "plt.title('Yearly decrease') # adding a title\n",
    "plt.xlabel('Days') # x label\n",
    "plt.ylabel('Week') # y label\n",
    "plt.show()"
   ]
  },
  {
   "cell_type": "code",
   "execution_count": 208,
   "id": "17016ca4",
   "metadata": {},
   "outputs": [
    {
     "data": {
      "text/html": [
       "<div>\n",
       "<style scoped>\n",
       "    .dataframe tbody tr th:only-of-type {\n",
       "        vertical-align: middle;\n",
       "    }\n",
       "\n",
       "    .dataframe tbody tr th {\n",
       "        vertical-align: top;\n",
       "    }\n",
       "\n",
       "    .dataframe thead th {\n",
       "        text-align: right;\n",
       "    }\n",
       "</style>\n",
       "<table border=\"1\" class=\"dataframe\">\n",
       "  <thead>\n",
       "    <tr style=\"text-align: right;\">\n",
       "      <th></th>\n",
       "      <th>Current Year Production</th>\n",
       "      <th>Previous Year Production</th>\n",
       "    </tr>\n",
       "    <tr>\n",
       "      <th>Fiscal Year</th>\n",
       "      <th></th>\n",
       "      <th></th>\n",
       "    </tr>\n",
       "  </thead>\n",
       "  <tbody>\n",
       "    <tr>\n",
       "      <th>2020</th>\n",
       "      <td>128446248000</td>\n",
       "      <td>142194570000</td>\n",
       "    </tr>\n",
       "    <tr>\n",
       "      <th>2021</th>\n",
       "      <td>133056168000</td>\n",
       "      <td>128446248000</td>\n",
       "    </tr>\n",
       "    <tr>\n",
       "      <th>2022</th>\n",
       "      <td>138213810000</td>\n",
       "      <td>133056168000</td>\n",
       "    </tr>\n",
       "    <tr>\n",
       "      <th>2023</th>\n",
       "      <td>39649722000</td>\n",
       "      <td>42674394000</td>\n",
       "    </tr>\n",
       "  </tbody>\n",
       "</table>\n",
       "</div>"
      ],
      "text/plain": [
       "             Current Year Production  Previous Year Production\n",
       "Fiscal Year                                                   \n",
       "2020                    128446248000              142194570000\n",
       "2021                    133056168000              128446248000\n",
       "2022                    138213810000              133056168000\n",
       "2023                     39649722000               42674394000"
      ]
     },
     "execution_count": 208,
     "metadata": {},
     "output_type": "execute_result"
    }
   ],
   "source": [
    "df.groupby('Fiscal Year')['Current Year Production', \"Previous Year Production\"].aggregate('sum')"
   ]
  },
  {
   "cell_type": "code",
   "execution_count": 209,
   "id": "60e4eda0",
   "metadata": {},
   "outputs": [],
   "source": [
    "def pre_process():\n",
    "    df['Differences_Current_and_Previouse']= df['Current Year Production'] - df['Previous Year Production']\n",
    "    df['Percentage_increase_Current_and_Previouse']= df['Current Year Production'] - df['Previous Year Production'].pct_change()\n",
    "    df = df.sort_values(['Fiscal Year', 'Current Year Production','Previous Year Production']).reset_index(drop=True)\n",
    "    df['Decrease_PCT'] = (df['Current Year Production'] - df['Previous Year Production']) / df['Previous Year Production'] * 100.0\n",
    "    df['PCT_change_Cumulative_Difference'] = (df['Current Year Cumulative Production'] - df['Cumulative Difference']) / df['Cumulative Difference'] * 100.0\n",
    "\n",
    "    return df"
   ]
  },
  {
   "cell_type": "code",
   "execution_count": 210,
   "id": "25c86587",
   "metadata": {},
   "outputs": [
    {
     "data": {
      "text/html": [
       "<div>\n",
       "<style scoped>\n",
       "    .dataframe tbody tr th:only-of-type {\n",
       "        vertical-align: middle;\n",
       "    }\n",
       "\n",
       "    .dataframe tbody tr th {\n",
       "        vertical-align: top;\n",
       "    }\n",
       "\n",
       "    .dataframe thead th {\n",
       "        text-align: right;\n",
       "    }\n",
       "</style>\n",
       "<table border=\"1\" class=\"dataframe\">\n",
       "  <thead>\n",
       "    <tr style=\"text-align: right;\">\n",
       "      <th></th>\n",
       "      <th>Fiscal Year</th>\n",
       "      <th>Fiscal Week</th>\n",
       "      <th>Current Year Production</th>\n",
       "      <th>Previous Year Production</th>\n",
       "      <th>Difference From Same Week Last Year</th>\n",
       "      <th>Current Year Cumulative Production</th>\n",
       "      <th>Cumulative Difference</th>\n",
       "    </tr>\n",
       "  </thead>\n",
       "  <tbody>\n",
       "    <tr>\n",
       "      <th>0</th>\n",
       "      <td>2023</td>\n",
       "      <td>16</td>\n",
       "      <td>2393748000</td>\n",
       "      <td>2417856000</td>\n",
       "      <td>-24108000.0</td>\n",
       "      <td>39649722000</td>\n",
       "      <td>-3.024672e+09</td>\n",
       "    </tr>\n",
       "    <tr>\n",
       "      <th>1</th>\n",
       "      <td>2023</td>\n",
       "      <td>15</td>\n",
       "      <td>2367876000</td>\n",
       "      <td>2324364000</td>\n",
       "      <td>43512000.0</td>\n",
       "      <td>37255974000</td>\n",
       "      <td>-3.000564e+09</td>\n",
       "    </tr>\n",
       "    <tr>\n",
       "      <th>2</th>\n",
       "      <td>2023</td>\n",
       "      <td>14</td>\n",
       "      <td>2222052000</td>\n",
       "      <td>2402568000</td>\n",
       "      <td>-180516000.0</td>\n",
       "      <td>34888098000</td>\n",
       "      <td>-3.044076e+09</td>\n",
       "    </tr>\n",
       "    <tr>\n",
       "      <th>3</th>\n",
       "      <td>2023</td>\n",
       "      <td>13</td>\n",
       "      <td>2209116000</td>\n",
       "      <td>2858856000</td>\n",
       "      <td>-649740000.0</td>\n",
       "      <td>32666046000</td>\n",
       "      <td>-2.863560e+09</td>\n",
       "    </tr>\n",
       "    <tr>\n",
       "      <th>4</th>\n",
       "      <td>2023</td>\n",
       "      <td>12</td>\n",
       "      <td>2742138000</td>\n",
       "      <td>2641884000</td>\n",
       "      <td>100254000.0</td>\n",
       "      <td>30456930000</td>\n",
       "      <td>-2.213820e+09</td>\n",
       "    </tr>\n",
       "    <tr>\n",
       "      <th>...</th>\n",
       "      <td>...</td>\n",
       "      <td>...</td>\n",
       "      <td>...</td>\n",
       "      <td>...</td>\n",
       "      <td>...</td>\n",
       "      <td>...</td>\n",
       "      <td>...</td>\n",
       "    </tr>\n",
       "    <tr>\n",
       "      <th>168</th>\n",
       "      <td>2020</td>\n",
       "      <td>5</td>\n",
       "      <td>2688630000</td>\n",
       "      <td>2675106000</td>\n",
       "      <td>13524000.0</td>\n",
       "      <td>13915902000</td>\n",
       "      <td>4.080720e+08</td>\n",
       "    </tr>\n",
       "    <tr>\n",
       "      <th>169</th>\n",
       "      <td>2020</td>\n",
       "      <td>4</td>\n",
       "      <td>2876496000</td>\n",
       "      <td>2723028000</td>\n",
       "      <td>153468000.0</td>\n",
       "      <td>11227272000</td>\n",
       "      <td>3.945480e+08</td>\n",
       "    </tr>\n",
       "    <tr>\n",
       "      <th>170</th>\n",
       "      <td>2020</td>\n",
       "      <td>3</td>\n",
       "      <td>2819460000</td>\n",
       "      <td>2741256000</td>\n",
       "      <td>78204000.0</td>\n",
       "      <td>8350776000</td>\n",
       "      <td>2.410800e+08</td>\n",
       "    </tr>\n",
       "    <tr>\n",
       "      <th>171</th>\n",
       "      <td>2020</td>\n",
       "      <td>2</td>\n",
       "      <td>2750076000</td>\n",
       "      <td>2699508000</td>\n",
       "      <td>50568000.0</td>\n",
       "      <td>5531316000</td>\n",
       "      <td>1.628760e+08</td>\n",
       "    </tr>\n",
       "    <tr>\n",
       "      <th>172</th>\n",
       "      <td>2020</td>\n",
       "      <td>1</td>\n",
       "      <td>2781240000</td>\n",
       "      <td>2668932000</td>\n",
       "      <td>112308000.0</td>\n",
       "      <td>2781240000</td>\n",
       "      <td>1.123080e+08</td>\n",
       "    </tr>\n",
       "  </tbody>\n",
       "</table>\n",
       "<p>173 rows × 7 columns</p>\n",
       "</div>"
      ],
      "text/plain": [
       "     Fiscal Year  Fiscal Week  Current Year Production  \\\n",
       "0           2023           16               2393748000   \n",
       "1           2023           15               2367876000   \n",
       "2           2023           14               2222052000   \n",
       "3           2023           13               2209116000   \n",
       "4           2023           12               2742138000   \n",
       "..           ...          ...                      ...   \n",
       "168         2020            5               2688630000   \n",
       "169         2020            4               2876496000   \n",
       "170         2020            3               2819460000   \n",
       "171         2020            2               2750076000   \n",
       "172         2020            1               2781240000   \n",
       "\n",
       "     Previous Year Production  Difference From Same Week Last Year  \\\n",
       "0                  2417856000                          -24108000.0   \n",
       "1                  2324364000                           43512000.0   \n",
       "2                  2402568000                         -180516000.0   \n",
       "3                  2858856000                         -649740000.0   \n",
       "4                  2641884000                          100254000.0   \n",
       "..                        ...                                  ...   \n",
       "168                2675106000                           13524000.0   \n",
       "169                2723028000                          153468000.0   \n",
       "170                2741256000                           78204000.0   \n",
       "171                2699508000                           50568000.0   \n",
       "172                2668932000                          112308000.0   \n",
       "\n",
       "     Current Year Cumulative Production  Cumulative Difference  \n",
       "0                           39649722000          -3.024672e+09  \n",
       "1                           37255974000          -3.000564e+09  \n",
       "2                           34888098000          -3.044076e+09  \n",
       "3                           32666046000          -2.863560e+09  \n",
       "4                           30456930000          -2.213820e+09  \n",
       "..                                  ...                    ...  \n",
       "168                         13915902000           4.080720e+08  \n",
       "169                         11227272000           3.945480e+08  \n",
       "170                          8350776000           2.410800e+08  \n",
       "171                          5531316000           1.628760e+08  \n",
       "172                          2781240000           1.123080e+08  \n",
       "\n",
       "[173 rows x 7 columns]"
      ]
     },
     "execution_count": 210,
     "metadata": {},
     "output_type": "execute_result"
    }
   ],
   "source": [
    "df \n"
   ]
  },
  {
   "cell_type": "code",
   "execution_count": 211,
   "id": "04ae44b2",
   "metadata": {},
   "outputs": [
    {
     "data": {
      "text/html": [
       "<div>\n",
       "<style scoped>\n",
       "    .dataframe tbody tr th:only-of-type {\n",
       "        vertical-align: middle;\n",
       "    }\n",
       "\n",
       "    .dataframe tbody tr th {\n",
       "        vertical-align: top;\n",
       "    }\n",
       "\n",
       "    .dataframe thead th {\n",
       "        text-align: right;\n",
       "    }\n",
       "</style>\n",
       "<table border=\"1\" class=\"dataframe\">\n",
       "  <thead>\n",
       "    <tr style=\"text-align: right;\">\n",
       "      <th></th>\n",
       "      <th>Fiscal Year</th>\n",
       "      <th>Fiscal Week</th>\n",
       "      <th>Current Year Production</th>\n",
       "      <th>Previous Year Production</th>\n",
       "      <th>Difference From Same Week Last Year</th>\n",
       "      <th>Current Year Cumulative Production</th>\n",
       "      <th>Cumulative Difference</th>\n",
       "    </tr>\n",
       "  </thead>\n",
       "  <tbody>\n",
       "    <tr>\n",
       "      <th>Fiscal Year</th>\n",
       "      <td>1.000000</td>\n",
       "      <td>-0.193511</td>\n",
       "      <td>0.133656</td>\n",
       "      <td>-0.167846</td>\n",
       "      <td>-0.354408</td>\n",
       "      <td>-0.174335</td>\n",
       "      <td>0.136592</td>\n",
       "    </tr>\n",
       "    <tr>\n",
       "      <th>Fiscal Week</th>\n",
       "      <td>-0.193511</td>\n",
       "      <td>1.000000</td>\n",
       "      <td>0.034812</td>\n",
       "      <td>-0.027237</td>\n",
       "      <td>0.025591</td>\n",
       "      <td>0.998181</td>\n",
       "      <td>0.413464</td>\n",
       "    </tr>\n",
       "    <tr>\n",
       "      <th>Current Year Production</th>\n",
       "      <td>0.133656</td>\n",
       "      <td>0.034812</td>\n",
       "      <td>1.000000</td>\n",
       "      <td>-0.200081</td>\n",
       "      <td>0.448888</td>\n",
       "      <td>0.046859</td>\n",
       "      <td>0.133397</td>\n",
       "    </tr>\n",
       "    <tr>\n",
       "      <th>Previous Year Production</th>\n",
       "      <td>-0.167846</td>\n",
       "      <td>-0.027237</td>\n",
       "      <td>-0.200081</td>\n",
       "      <td>1.000000</td>\n",
       "      <td>-0.888624</td>\n",
       "      <td>-0.026013</td>\n",
       "      <td>0.149880</td>\n",
       "    </tr>\n",
       "    <tr>\n",
       "      <th>Difference From Same Week Last Year</th>\n",
       "      <td>-0.354408</td>\n",
       "      <td>0.025591</td>\n",
       "      <td>0.448888</td>\n",
       "      <td>-0.888624</td>\n",
       "      <td>1.000000</td>\n",
       "      <td>0.000950</td>\n",
       "      <td>-0.167270</td>\n",
       "    </tr>\n",
       "    <tr>\n",
       "      <th>Current Year Cumulative Production</th>\n",
       "      <td>-0.174335</td>\n",
       "      <td>0.998181</td>\n",
       "      <td>0.046859</td>\n",
       "      <td>-0.026013</td>\n",
       "      <td>0.000950</td>\n",
       "      <td>1.000000</td>\n",
       "      <td>0.444351</td>\n",
       "    </tr>\n",
       "    <tr>\n",
       "      <th>Cumulative Difference</th>\n",
       "      <td>0.136592</td>\n",
       "      <td>0.413464</td>\n",
       "      <td>0.133397</td>\n",
       "      <td>0.149880</td>\n",
       "      <td>-0.167270</td>\n",
       "      <td>0.444351</td>\n",
       "      <td>1.000000</td>\n",
       "    </tr>\n",
       "  </tbody>\n",
       "</table>\n",
       "</div>"
      ],
      "text/plain": [
       "                                     Fiscal Year  Fiscal Week  \\\n",
       "Fiscal Year                             1.000000    -0.193511   \n",
       "Fiscal Week                            -0.193511     1.000000   \n",
       "Current Year Production                 0.133656     0.034812   \n",
       "Previous Year Production               -0.167846    -0.027237   \n",
       "Difference From Same Week Last Year    -0.354408     0.025591   \n",
       "Current Year Cumulative Production     -0.174335     0.998181   \n",
       "Cumulative Difference                   0.136592     0.413464   \n",
       "\n",
       "                                     Current Year Production  \\\n",
       "Fiscal Year                                         0.133656   \n",
       "Fiscal Week                                         0.034812   \n",
       "Current Year Production                             1.000000   \n",
       "Previous Year Production                           -0.200081   \n",
       "Difference From Same Week Last Year                 0.448888   \n",
       "Current Year Cumulative Production                  0.046859   \n",
       "Cumulative Difference                               0.133397   \n",
       "\n",
       "                                     Previous Year Production  \\\n",
       "Fiscal Year                                         -0.167846   \n",
       "Fiscal Week                                         -0.027237   \n",
       "Current Year Production                             -0.200081   \n",
       "Previous Year Production                             1.000000   \n",
       "Difference From Same Week Last Year                 -0.888624   \n",
       "Current Year Cumulative Production                  -0.026013   \n",
       "Cumulative Difference                                0.149880   \n",
       "\n",
       "                                     Difference From Same Week Last Year  \\\n",
       "Fiscal Year                                                    -0.354408   \n",
       "Fiscal Week                                                     0.025591   \n",
       "Current Year Production                                         0.448888   \n",
       "Previous Year Production                                       -0.888624   \n",
       "Difference From Same Week Last Year                             1.000000   \n",
       "Current Year Cumulative Production                              0.000950   \n",
       "Cumulative Difference                                          -0.167270   \n",
       "\n",
       "                                     Current Year Cumulative Production  \\\n",
       "Fiscal Year                                                   -0.174335   \n",
       "Fiscal Week                                                    0.998181   \n",
       "Current Year Production                                        0.046859   \n",
       "Previous Year Production                                      -0.026013   \n",
       "Difference From Same Week Last Year                            0.000950   \n",
       "Current Year Cumulative Production                             1.000000   \n",
       "Cumulative Difference                                          0.444351   \n",
       "\n",
       "                                     Cumulative Difference  \n",
       "Fiscal Year                                       0.136592  \n",
       "Fiscal Week                                       0.413464  \n",
       "Current Year Production                           0.133397  \n",
       "Previous Year Production                          0.149880  \n",
       "Difference From Same Week Last Year              -0.167270  \n",
       "Current Year Cumulative Production                0.444351  \n",
       "Cumulative Difference                             1.000000  "
      ]
     },
     "execution_count": 211,
     "metadata": {},
     "output_type": "execute_result"
    }
   ],
   "source": [
    "df.corr('pearson')"
   ]
  },
  {
   "cell_type": "markdown",
   "id": "508e0ccb",
   "metadata": {},
   "source": [
    "# Get the correclation to a target variables"
   ]
  },
  {
   "cell_type": "code",
   "execution_count": 212,
   "id": "1a86ff3a",
   "metadata": {},
   "outputs": [
    {
     "data": {
      "text/plain": [
       "<AxesSubplot:>"
      ]
     },
     "execution_count": 212,
     "metadata": {},
     "output_type": "execute_result"
    },
    {
     "data": {
      "image/png": "[encoded data removed]",
      "text/plain": [
       "<Figure size 640x480 with 2 Axes>"
      ]
     },
     "metadata": {},
     "output_type": "display_data"
    }
   ],
   "source": [
    "t_corr = df.corr()[['Current Year Production']].sort_values(by=['Current Year Production'], ascending=False)\n",
    "sns.heatmap(t_corr, annot=True)"
   ]
  },
  {
   "cell_type": "code",
   "execution_count": 214,
   "id": "13b66d78",
   "metadata": {},
   "outputs": [
    {
     "data": {
      "text/plain": [
       "<Figure size 1400x700 with 0 Axes>"
      ]
     },
     "metadata": {},
     "output_type": "display_data"
    },
    {
     "data": {
      "image/png": "[encoded data removed]",
      "text/plain": [
       "<Figure size 1200x1000 with 2 Axes>"
      ]
     },
     "metadata": {},
     "output_type": "display_data"
    }
   ],
   "source": [
    "plt.figure(figsize=(14, 7)) # resizing the plot\n",
    "cols = ['Current Year Production',\n",
    "        'Previous Year Production']\n",
    "axes = df[cols].plot(figsize=(12, 10), subplots = True)\n",
    "plt.show()"
   ]
  },
  {
   "cell_type": "code",
   "execution_count": 215,
   "id": "d8bc3323",
   "metadata": {},
   "outputs": [
    {
     "data": {
      "image/png": "[encoded data removed]",
      "text/plain": [
       "<Figure size 640x480 with 1 Axes>"
      ]
     },
     "metadata": {},
     "output_type": "display_data"
    },
    {
     "data": {
      "image/png": "[encoded data removed]",
      "text/plain": [
       "<Figure size 640x480 with 1 Axes>"
      ]
     },
     "metadata": {},
     "output_type": "display_data"
    }
   ],
   "source": [
    "cols = ['Current Year Production',  'Previous Year Production']\n",
    "for i in cols:\n",
    "    plt.subplots()\n",
    "    axes = df.boxplot(column= [i])\n",
    "plt.show()"
   ]
  },
  {
   "cell_type": "code",
   "execution_count": null,
   "id": "75d36ecc",
   "metadata": {},
   "outputs": [],
   "source": [
    "#df['Production'] = pd.to_numeric(df['Production'], errors='coerce')"
   ]
  },
  {
   "cell_type": "markdown",
   "id": "ae8689a6",
   "metadata": {},
   "source": [
    "# Processing the data, Adding features"
   ]
  },
  {
   "cell_type": "code",
   "execution_count": 216,
   "id": "1d0495e0",
   "metadata": {},
   "outputs": [
    {
     "data": {
      "text/html": [
       "<div>\n",
       "<style scoped>\n",
       "    .dataframe tbody tr th:only-of-type {\n",
       "        vertical-align: middle;\n",
       "    }\n",
       "\n",
       "    .dataframe tbody tr th {\n",
       "        vertical-align: top;\n",
       "    }\n",
       "\n",
       "    .dataframe thead th {\n",
       "        text-align: right;\n",
       "    }\n",
       "</style>\n",
       "<table border=\"1\" class=\"dataframe\">\n",
       "  <thead>\n",
       "    <tr style=\"text-align: right;\">\n",
       "      <th></th>\n",
       "      <th>Fiscal Year</th>\n",
       "      <th>Fiscal Week</th>\n",
       "      <th>Current Year Production</th>\n",
       "      <th>Previous Year Production</th>\n",
       "      <th>Difference From Same Week Last Year</th>\n",
       "      <th>Current Year Cumulative Production</th>\n",
       "      <th>Cumulative Difference</th>\n",
       "    </tr>\n",
       "  </thead>\n",
       "  <tbody>\n",
       "    <tr>\n",
       "      <th>0</th>\n",
       "      <td>2023</td>\n",
       "      <td>16</td>\n",
       "      <td>2393748000</td>\n",
       "      <td>2417856000</td>\n",
       "      <td>-24108000.0</td>\n",
       "      <td>39649722000</td>\n",
       "      <td>-3.024672e+09</td>\n",
       "    </tr>\n",
       "    <tr>\n",
       "      <th>1</th>\n",
       "      <td>2023</td>\n",
       "      <td>15</td>\n",
       "      <td>2367876000</td>\n",
       "      <td>2324364000</td>\n",
       "      <td>43512000.0</td>\n",
       "      <td>37255974000</td>\n",
       "      <td>-3.000564e+09</td>\n",
       "    </tr>\n",
       "    <tr>\n",
       "      <th>2</th>\n",
       "      <td>2023</td>\n",
       "      <td>14</td>\n",
       "      <td>2222052000</td>\n",
       "      <td>2402568000</td>\n",
       "      <td>-180516000.0</td>\n",
       "      <td>34888098000</td>\n",
       "      <td>-3.044076e+09</td>\n",
       "    </tr>\n",
       "    <tr>\n",
       "      <th>3</th>\n",
       "      <td>2023</td>\n",
       "      <td>13</td>\n",
       "      <td>2209116000</td>\n",
       "      <td>2858856000</td>\n",
       "      <td>-649740000.0</td>\n",
       "      <td>32666046000</td>\n",
       "      <td>-2.863560e+09</td>\n",
       "    </tr>\n",
       "    <tr>\n",
       "      <th>4</th>\n",
       "      <td>2023</td>\n",
       "      <td>12</td>\n",
       "      <td>2742138000</td>\n",
       "      <td>2641884000</td>\n",
       "      <td>100254000.0</td>\n",
       "      <td>30456930000</td>\n",
       "      <td>-2.213820e+09</td>\n",
       "    </tr>\n",
       "  </tbody>\n",
       "</table>\n",
       "</div>"
      ],
      "text/plain": [
       "   Fiscal Year  Fiscal Week  Current Year Production  \\\n",
       "0         2023           16               2393748000   \n",
       "1         2023           15               2367876000   \n",
       "2         2023           14               2222052000   \n",
       "3         2023           13               2209116000   \n",
       "4         2023           12               2742138000   \n",
       "\n",
       "   Previous Year Production  Difference From Same Week Last Year  \\\n",
       "0                2417856000                          -24108000.0   \n",
       "1                2324364000                           43512000.0   \n",
       "2                2402568000                         -180516000.0   \n",
       "3                2858856000                         -649740000.0   \n",
       "4                2641884000                          100254000.0   \n",
       "\n",
       "   Current Year Cumulative Production  Cumulative Difference  \n",
       "0                         39649722000          -3.024672e+09  \n",
       "1                         37255974000          -3.000564e+09  \n",
       "2                         34888098000          -3.044076e+09  \n",
       "3                         32666046000          -2.863560e+09  \n",
       "4                         30456930000          -2.213820e+09  "
      ]
     },
     "execution_count": 216,
     "metadata": {},
     "output_type": "execute_result"
    }
   ],
   "source": [
    "df.head(5)"
   ]
  },
  {
   "cell_type": "code",
   "execution_count": 217,
   "id": "50ee6326",
   "metadata": {},
   "outputs": [
    {
     "data": {
      "text/plain": [
       "Fiscal Year                             0\n",
       "Fiscal Week                             0\n",
       "Current Year Production                 0\n",
       "Previous Year Production                0\n",
       "Difference From Same Week Last Year    58\n",
       "Current Year Cumulative Production      0\n",
       "Cumulative Difference                  49\n",
       "dtype: int64"
      ]
     },
     "execution_count": 217,
     "metadata": {},
     "output_type": "execute_result"
    }
   ],
   "source": [
    "df.isnull().sum()"
   ]
  },
  {
   "cell_type": "code",
   "execution_count": 218,
   "id": "aa8d49d2",
   "metadata": {},
   "outputs": [
    {
     "data": {
      "text/plain": [
       "0      False\n",
       "1      False\n",
       "2      False\n",
       "3      False\n",
       "4      False\n",
       "       ...  \n",
       "168    False\n",
       "169    False\n",
       "170    False\n",
       "171    False\n",
       "172    False\n",
       "Length: 173, dtype: bool"
      ]
     },
     "execution_count": 218,
     "metadata": {},
     "output_type": "execute_result"
    }
   ],
   "source": [
    "df.isnull().any(axis=1)"
   ]
  },
  {
   "cell_type": "code",
   "execution_count": 219,
   "id": "6a713338",
   "metadata": {},
   "outputs": [],
   "source": [
    "df= df.loc[~(df.isna().sum(axis=1)>=5)]"
   ]
  },
  {
   "cell_type": "code",
   "execution_count": 220,
   "id": "181b59f1",
   "metadata": {},
   "outputs": [
    {
     "data": {
      "text/html": [
       "<div>\n",
       "<style scoped>\n",
       "    .dataframe tbody tr th:only-of-type {\n",
       "        vertical-align: middle;\n",
       "    }\n",
       "\n",
       "    .dataframe tbody tr th {\n",
       "        vertical-align: top;\n",
       "    }\n",
       "\n",
       "    .dataframe thead th {\n",
       "        text-align: right;\n",
       "    }\n",
       "</style>\n",
       "<table border=\"1\" class=\"dataframe\">\n",
       "  <thead>\n",
       "    <tr style=\"text-align: right;\">\n",
       "      <th></th>\n",
       "      <th>Fiscal Year</th>\n",
       "      <th>Fiscal Week</th>\n",
       "      <th>Current Year Production</th>\n",
       "      <th>Previous Year Production</th>\n",
       "      <th>Difference From Same Week Last Year</th>\n",
       "      <th>Current Year Cumulative Production</th>\n",
       "      <th>Cumulative Difference</th>\n",
       "    </tr>\n",
       "  </thead>\n",
       "  <tbody>\n",
       "    <tr>\n",
       "      <th>0</th>\n",
       "      <td>2023</td>\n",
       "      <td>16</td>\n",
       "      <td>2393748000</td>\n",
       "      <td>2417856000</td>\n",
       "      <td>-24108000.0</td>\n",
       "      <td>39649722000</td>\n",
       "      <td>-3.024672e+09</td>\n",
       "    </tr>\n",
       "    <tr>\n",
       "      <th>1</th>\n",
       "      <td>2023</td>\n",
       "      <td>15</td>\n",
       "      <td>2367876000</td>\n",
       "      <td>2324364000</td>\n",
       "      <td>43512000.0</td>\n",
       "      <td>37255974000</td>\n",
       "      <td>-3.000564e+09</td>\n",
       "    </tr>\n",
       "    <tr>\n",
       "      <th>2</th>\n",
       "      <td>2023</td>\n",
       "      <td>14</td>\n",
       "      <td>2222052000</td>\n",
       "      <td>2402568000</td>\n",
       "      <td>-180516000.0</td>\n",
       "      <td>34888098000</td>\n",
       "      <td>-3.044076e+09</td>\n",
       "    </tr>\n",
       "    <tr>\n",
       "      <th>3</th>\n",
       "      <td>2023</td>\n",
       "      <td>13</td>\n",
       "      <td>2209116000</td>\n",
       "      <td>2858856000</td>\n",
       "      <td>-649740000.0</td>\n",
       "      <td>32666046000</td>\n",
       "      <td>-2.863560e+09</td>\n",
       "    </tr>\n",
       "    <tr>\n",
       "      <th>4</th>\n",
       "      <td>2023</td>\n",
       "      <td>12</td>\n",
       "      <td>2742138000</td>\n",
       "      <td>2641884000</td>\n",
       "      <td>100254000.0</td>\n",
       "      <td>30456930000</td>\n",
       "      <td>-2.213820e+09</td>\n",
       "    </tr>\n",
       "    <tr>\n",
       "      <th>...</th>\n",
       "      <td>...</td>\n",
       "      <td>...</td>\n",
       "      <td>...</td>\n",
       "      <td>...</td>\n",
       "      <td>...</td>\n",
       "      <td>...</td>\n",
       "      <td>...</td>\n",
       "    </tr>\n",
       "    <tr>\n",
       "      <th>95</th>\n",
       "      <td>2021</td>\n",
       "      <td>26</td>\n",
       "      <td>2613954000</td>\n",
       "      <td>1957746000</td>\n",
       "      <td>656208000.0</td>\n",
       "      <td>62466474000</td>\n",
       "      <td>-6.394206e+09</td>\n",
       "    </tr>\n",
       "    <tr>\n",
       "      <th>96</th>\n",
       "      <td>2021</td>\n",
       "      <td>25</td>\n",
       "      <td>2533104000</td>\n",
       "      <td>2598078000</td>\n",
       "      <td>-64974000.0</td>\n",
       "      <td>59852520000</td>\n",
       "      <td>-7.050414e+09</td>\n",
       "    </tr>\n",
       "    <tr>\n",
       "      <th>97</th>\n",
       "      <td>2021</td>\n",
       "      <td>24</td>\n",
       "      <td>2481948000</td>\n",
       "      <td>2850624000</td>\n",
       "      <td>-368676000.0</td>\n",
       "      <td>57319416000</td>\n",
       "      <td>-6.985440e+09</td>\n",
       "    </tr>\n",
       "    <tr>\n",
       "      <th>98</th>\n",
       "      <td>2021</td>\n",
       "      <td>23</td>\n",
       "      <td>2565444000</td>\n",
       "      <td>2778006000</td>\n",
       "      <td>-212562000.0</td>\n",
       "      <td>54837468000</td>\n",
       "      <td>NaN</td>\n",
       "    </tr>\n",
       "    <tr>\n",
       "      <th>99</th>\n",
       "      <td>2021</td>\n",
       "      <td>22</td>\n",
       "      <td>2395512000</td>\n",
       "      <td>2700684000</td>\n",
       "      <td>NaN</td>\n",
       "      <td>52272024000</td>\n",
       "      <td>NaN</td>\n",
       "    </tr>\n",
       "  </tbody>\n",
       "</table>\n",
       "<p>100 rows × 7 columns</p>\n",
       "</div>"
      ],
      "text/plain": [
       "    Fiscal Year  Fiscal Week  Current Year Production  \\\n",
       "0          2023           16               2393748000   \n",
       "1          2023           15               2367876000   \n",
       "2          2023           14               2222052000   \n",
       "3          2023           13               2209116000   \n",
       "4          2023           12               2742138000   \n",
       "..          ...          ...                      ...   \n",
       "95         2021           26               2613954000   \n",
       "96         2021           25               2533104000   \n",
       "97         2021           24               2481948000   \n",
       "98         2021           23               2565444000   \n",
       "99         2021           22               2395512000   \n",
       "\n",
       "    Previous Year Production  Difference From Same Week Last Year  \\\n",
       "0                 2417856000                          -24108000.0   \n",
       "1                 2324364000                           43512000.0   \n",
       "2                 2402568000                         -180516000.0   \n",
       "3                 2858856000                         -649740000.0   \n",
       "4                 2641884000                          100254000.0   \n",
       "..                       ...                                  ...   \n",
       "95                1957746000                          656208000.0   \n",
       "96                2598078000                          -64974000.0   \n",
       "97                2850624000                         -368676000.0   \n",
       "98                2778006000                         -212562000.0   \n",
       "99                2700684000                                  NaN   \n",
       "\n",
       "    Current Year Cumulative Production  Cumulative Difference  \n",
       "0                          39649722000          -3.024672e+09  \n",
       "1                          37255974000          -3.000564e+09  \n",
       "2                          34888098000          -3.044076e+09  \n",
       "3                          32666046000          -2.863560e+09  \n",
       "4                          30456930000          -2.213820e+09  \n",
       "..                                 ...                    ...  \n",
       "95                         62466474000          -6.394206e+09  \n",
       "96                         59852520000          -7.050414e+09  \n",
       "97                         57319416000          -6.985440e+09  \n",
       "98                         54837468000                    NaN  \n",
       "99                         52272024000                    NaN  \n",
       "\n",
       "[100 rows x 7 columns]"
      ]
     },
     "execution_count": 220,
     "metadata": {},
     "output_type": "execute_result"
    }
   ],
   "source": [
    "df.head(100)\n"
   ]
  },
  {
   "cell_type": "code",
   "execution_count": 221,
   "id": "f153a97b",
   "metadata": {},
   "outputs": [],
   "source": [
    "df.fillna(value=0, inplace=True)"
   ]
  },
  {
   "cell_type": "code",
   "execution_count": 222,
   "id": "cfeff476",
   "metadata": {},
   "outputs": [
    {
     "data": {
      "text/html": [
       "<div>\n",
       "<style scoped>\n",
       "    .dataframe tbody tr th:only-of-type {\n",
       "        vertical-align: middle;\n",
       "    }\n",
       "\n",
       "    .dataframe tbody tr th {\n",
       "        vertical-align: top;\n",
       "    }\n",
       "\n",
       "    .dataframe thead th {\n",
       "        text-align: right;\n",
       "    }\n",
       "</style>\n",
       "<table border=\"1\" class=\"dataframe\">\n",
       "  <thead>\n",
       "    <tr style=\"text-align: right;\">\n",
       "      <th></th>\n",
       "      <th>Fiscal Year</th>\n",
       "      <th>Fiscal Week</th>\n",
       "      <th>Current Year Production</th>\n",
       "      <th>Previous Year Production</th>\n",
       "      <th>Difference From Same Week Last Year</th>\n",
       "      <th>Current Year Cumulative Production</th>\n",
       "      <th>Cumulative Difference</th>\n",
       "    </tr>\n",
       "  </thead>\n",
       "  <tbody>\n",
       "    <tr>\n",
       "      <th>0</th>\n",
       "      <td>2023</td>\n",
       "      <td>16</td>\n",
       "      <td>2393748000</td>\n",
       "      <td>2417856000</td>\n",
       "      <td>-24108000.0</td>\n",
       "      <td>39649722000</td>\n",
       "      <td>-3.024672e+09</td>\n",
       "    </tr>\n",
       "    <tr>\n",
       "      <th>1</th>\n",
       "      <td>2023</td>\n",
       "      <td>15</td>\n",
       "      <td>2367876000</td>\n",
       "      <td>2324364000</td>\n",
       "      <td>43512000.0</td>\n",
       "      <td>37255974000</td>\n",
       "      <td>-3.000564e+09</td>\n",
       "    </tr>\n",
       "    <tr>\n",
       "      <th>2</th>\n",
       "      <td>2023</td>\n",
       "      <td>14</td>\n",
       "      <td>2222052000</td>\n",
       "      <td>2402568000</td>\n",
       "      <td>-180516000.0</td>\n",
       "      <td>34888098000</td>\n",
       "      <td>-3.044076e+09</td>\n",
       "    </tr>\n",
       "    <tr>\n",
       "      <th>3</th>\n",
       "      <td>2023</td>\n",
       "      <td>13</td>\n",
       "      <td>2209116000</td>\n",
       "      <td>2858856000</td>\n",
       "      <td>-649740000.0</td>\n",
       "      <td>32666046000</td>\n",
       "      <td>-2.863560e+09</td>\n",
       "    </tr>\n",
       "    <tr>\n",
       "      <th>4</th>\n",
       "      <td>2023</td>\n",
       "      <td>12</td>\n",
       "      <td>2742138000</td>\n",
       "      <td>2641884000</td>\n",
       "      <td>100254000.0</td>\n",
       "      <td>30456930000</td>\n",
       "      <td>-2.213820e+09</td>\n",
       "    </tr>\n",
       "    <tr>\n",
       "      <th>...</th>\n",
       "      <td>...</td>\n",
       "      <td>...</td>\n",
       "      <td>...</td>\n",
       "      <td>...</td>\n",
       "      <td>...</td>\n",
       "      <td>...</td>\n",
       "      <td>...</td>\n",
       "    </tr>\n",
       "    <tr>\n",
       "      <th>95</th>\n",
       "      <td>2021</td>\n",
       "      <td>26</td>\n",
       "      <td>2613954000</td>\n",
       "      <td>1957746000</td>\n",
       "      <td>656208000.0</td>\n",
       "      <td>62466474000</td>\n",
       "      <td>-6.394206e+09</td>\n",
       "    </tr>\n",
       "    <tr>\n",
       "      <th>96</th>\n",
       "      <td>2021</td>\n",
       "      <td>25</td>\n",
       "      <td>2533104000</td>\n",
       "      <td>2598078000</td>\n",
       "      <td>-64974000.0</td>\n",
       "      <td>59852520000</td>\n",
       "      <td>-7.050414e+09</td>\n",
       "    </tr>\n",
       "    <tr>\n",
       "      <th>97</th>\n",
       "      <td>2021</td>\n",
       "      <td>24</td>\n",
       "      <td>2481948000</td>\n",
       "      <td>2850624000</td>\n",
       "      <td>-368676000.0</td>\n",
       "      <td>57319416000</td>\n",
       "      <td>-6.985440e+09</td>\n",
       "    </tr>\n",
       "    <tr>\n",
       "      <th>98</th>\n",
       "      <td>2021</td>\n",
       "      <td>23</td>\n",
       "      <td>2565444000</td>\n",
       "      <td>2778006000</td>\n",
       "      <td>-212562000.0</td>\n",
       "      <td>54837468000</td>\n",
       "      <td>0.000000e+00</td>\n",
       "    </tr>\n",
       "    <tr>\n",
       "      <th>99</th>\n",
       "      <td>2021</td>\n",
       "      <td>22</td>\n",
       "      <td>2395512000</td>\n",
       "      <td>2700684000</td>\n",
       "      <td>0.0</td>\n",
       "      <td>52272024000</td>\n",
       "      <td>0.000000e+00</td>\n",
       "    </tr>\n",
       "  </tbody>\n",
       "</table>\n",
       "<p>100 rows × 7 columns</p>\n",
       "</div>"
      ],
      "text/plain": [
       "    Fiscal Year  Fiscal Week  Current Year Production  \\\n",
       "0          2023           16               2393748000   \n",
       "1          2023           15               2367876000   \n",
       "2          2023           14               2222052000   \n",
       "3          2023           13               2209116000   \n",
       "4          2023           12               2742138000   \n",
       "..          ...          ...                      ...   \n",
       "95         2021           26               2613954000   \n",
       "96         2021           25               2533104000   \n",
       "97         2021           24               2481948000   \n",
       "98         2021           23               2565444000   \n",
       "99         2021           22               2395512000   \n",
       "\n",
       "    Previous Year Production  Difference From Same Week Last Year  \\\n",
       "0                 2417856000                          -24108000.0   \n",
       "1                 2324364000                           43512000.0   \n",
       "2                 2402568000                         -180516000.0   \n",
       "3                 2858856000                         -649740000.0   \n",
       "4                 2641884000                          100254000.0   \n",
       "..                       ...                                  ...   \n",
       "95                1957746000                          656208000.0   \n",
       "96                2598078000                          -64974000.0   \n",
       "97                2850624000                         -368676000.0   \n",
       "98                2778006000                         -212562000.0   \n",
       "99                2700684000                                  0.0   \n",
       "\n",
       "    Current Year Cumulative Production  Cumulative Difference  \n",
       "0                          39649722000          -3.024672e+09  \n",
       "1                          37255974000          -3.000564e+09  \n",
       "2                          34888098000          -3.044076e+09  \n",
       "3                          32666046000          -2.863560e+09  \n",
       "4                          30456930000          -2.213820e+09  \n",
       "..                                 ...                    ...  \n",
       "95                         62466474000          -6.394206e+09  \n",
       "96                         59852520000          -7.050414e+09  \n",
       "97                         57319416000          -6.985440e+09  \n",
       "98                         54837468000           0.000000e+00  \n",
       "99                         52272024000           0.000000e+00  \n",
       "\n",
       "[100 rows x 7 columns]"
      ]
     },
     "execution_count": 222,
     "metadata": {},
     "output_type": "execute_result"
    }
   ],
   "source": [
    "df.head(100)"
   ]
  },
  {
   "cell_type": "markdown",
   "id": "5b7a2846",
   "metadata": {},
   "source": [
    "# Forcast Production"
   ]
  },
  {
   "cell_type": "code",
   "execution_count": 225,
   "id": "4388b69e",
   "metadata": {},
   "outputs": [
    {
     "name": "stdout",
     "output_type": "stream",
     "text": [
      "9\n"
     ]
    }
   ],
   "source": [
    "forecast_production = int(math.ceil(0.05 * len(df))) # forcasting out 5% of the entire dataset\n",
    "print(forecast_production)\n",
    "df['Production'] = df['Current Year Production'].shift(-forecast_production)"
   ]
  },
  {
   "cell_type": "code",
   "execution_count": 226,
   "id": "34c2690b",
   "metadata": {},
   "outputs": [
    {
     "data": {
      "text/html": [
       "<div>\n",
       "<style scoped>\n",
       "    .dataframe tbody tr th:only-of-type {\n",
       "        vertical-align: middle;\n",
       "    }\n",
       "\n",
       "    .dataframe tbody tr th {\n",
       "        vertical-align: top;\n",
       "    }\n",
       "\n",
       "    .dataframe thead th {\n",
       "        text-align: right;\n",
       "    }\n",
       "</style>\n",
       "<table border=\"1\" class=\"dataframe\">\n",
       "  <thead>\n",
       "    <tr style=\"text-align: right;\">\n",
       "      <th></th>\n",
       "      <th>Fiscal Year</th>\n",
       "      <th>Fiscal Week</th>\n",
       "      <th>Current Year Production</th>\n",
       "      <th>Previous Year Production</th>\n",
       "      <th>Difference From Same Week Last Year</th>\n",
       "      <th>Current Year Cumulative Production</th>\n",
       "      <th>Cumulative Difference</th>\n",
       "      <th>Production</th>\n",
       "    </tr>\n",
       "  </thead>\n",
       "  <tbody>\n",
       "    <tr>\n",
       "      <th>0</th>\n",
       "      <td>2023</td>\n",
       "      <td>16</td>\n",
       "      <td>2393748000</td>\n",
       "      <td>2417856000</td>\n",
       "      <td>-24108000.0</td>\n",
       "      <td>39649722000</td>\n",
       "      <td>-3.024672e+09</td>\n",
       "      <td>2.448138e+09</td>\n",
       "    </tr>\n",
       "    <tr>\n",
       "      <th>1</th>\n",
       "      <td>2023</td>\n",
       "      <td>15</td>\n",
       "      <td>2367876000</td>\n",
       "      <td>2324364000</td>\n",
       "      <td>43512000.0</td>\n",
       "      <td>37255974000</td>\n",
       "      <td>-3.000564e+09</td>\n",
       "      <td>2.570148e+09</td>\n",
       "    </tr>\n",
       "    <tr>\n",
       "      <th>2</th>\n",
       "      <td>2023</td>\n",
       "      <td>14</td>\n",
       "      <td>2222052000</td>\n",
       "      <td>2402568000</td>\n",
       "      <td>-180516000.0</td>\n",
       "      <td>34888098000</td>\n",
       "      <td>-3.044076e+09</td>\n",
       "      <td>2.649234e+09</td>\n",
       "    </tr>\n",
       "    <tr>\n",
       "      <th>3</th>\n",
       "      <td>2023</td>\n",
       "      <td>13</td>\n",
       "      <td>2209116000</td>\n",
       "      <td>2858856000</td>\n",
       "      <td>-649740000.0</td>\n",
       "      <td>32666046000</td>\n",
       "      <td>-2.863560e+09</td>\n",
       "      <td>2.546040e+09</td>\n",
       "    </tr>\n",
       "    <tr>\n",
       "      <th>4</th>\n",
       "      <td>2023</td>\n",
       "      <td>12</td>\n",
       "      <td>2742138000</td>\n",
       "      <td>2641884000</td>\n",
       "      <td>100254000.0</td>\n",
       "      <td>30456930000</td>\n",
       "      <td>-2.213820e+09</td>\n",
       "      <td>2.625420e+09</td>\n",
       "    </tr>\n",
       "  </tbody>\n",
       "</table>\n",
       "</div>"
      ],
      "text/plain": [
       "   Fiscal Year  Fiscal Week  Current Year Production  \\\n",
       "0         2023           16               2393748000   \n",
       "1         2023           15               2367876000   \n",
       "2         2023           14               2222052000   \n",
       "3         2023           13               2209116000   \n",
       "4         2023           12               2742138000   \n",
       "\n",
       "   Previous Year Production  Difference From Same Week Last Year  \\\n",
       "0                2417856000                          -24108000.0   \n",
       "1                2324364000                           43512000.0   \n",
       "2                2402568000                         -180516000.0   \n",
       "3                2858856000                         -649740000.0   \n",
       "4                2641884000                          100254000.0   \n",
       "\n",
       "   Current Year Cumulative Production  Cumulative Difference    Production  \n",
       "0                         39649722000          -3.024672e+09  2.448138e+09  \n",
       "1                         37255974000          -3.000564e+09  2.570148e+09  \n",
       "2                         34888098000          -3.044076e+09  2.649234e+09  \n",
       "3                         32666046000          -2.863560e+09  2.546040e+09  \n",
       "4                         30456930000          -2.213820e+09  2.625420e+09  "
      ]
     },
     "execution_count": 226,
     "metadata": {},
     "output_type": "execute_result"
    }
   ],
   "source": [
    "df.head(5)"
   ]
  },
  {
   "cell_type": "markdown",
   "id": "02fbdfa3",
   "metadata": {},
   "source": [
    "# Remove rows with infiniit and Null value\n"
   ]
  },
  {
   "cell_type": "code",
   "execution_count": 227,
   "id": "1965e438",
   "metadata": {},
   "outputs": [],
   "source": [
    "df = df[np.isfinite(df).all(1)]"
   ]
  },
  {
   "cell_type": "code",
   "execution_count": 228,
   "id": "d53295f8",
   "metadata": {},
   "outputs": [
    {
     "data": {
      "text/html": [
       "<div>\n",
       "<style scoped>\n",
       "    .dataframe tbody tr th:only-of-type {\n",
       "        vertical-align: middle;\n",
       "    }\n",
       "\n",
       "    .dataframe tbody tr th {\n",
       "        vertical-align: top;\n",
       "    }\n",
       "\n",
       "    .dataframe thead th {\n",
       "        text-align: right;\n",
       "    }\n",
       "</style>\n",
       "<table border=\"1\" class=\"dataframe\">\n",
       "  <thead>\n",
       "    <tr style=\"text-align: right;\">\n",
       "      <th></th>\n",
       "      <th>Fiscal Year</th>\n",
       "      <th>Fiscal Week</th>\n",
       "      <th>Current Year Production</th>\n",
       "      <th>Previous Year Production</th>\n",
       "      <th>Difference From Same Week Last Year</th>\n",
       "      <th>Current Year Cumulative Production</th>\n",
       "      <th>Cumulative Difference</th>\n",
       "      <th>Production</th>\n",
       "    </tr>\n",
       "  </thead>\n",
       "  <tbody>\n",
       "    <tr>\n",
       "      <th>0</th>\n",
       "      <td>2023</td>\n",
       "      <td>16</td>\n",
       "      <td>2393748000</td>\n",
       "      <td>2417856000</td>\n",
       "      <td>-24108000.0</td>\n",
       "      <td>39649722000</td>\n",
       "      <td>-3.024672e+09</td>\n",
       "      <td>2.448138e+09</td>\n",
       "    </tr>\n",
       "    <tr>\n",
       "      <th>1</th>\n",
       "      <td>2023</td>\n",
       "      <td>15</td>\n",
       "      <td>2367876000</td>\n",
       "      <td>2324364000</td>\n",
       "      <td>43512000.0</td>\n",
       "      <td>37255974000</td>\n",
       "      <td>-3.000564e+09</td>\n",
       "      <td>2.570148e+09</td>\n",
       "    </tr>\n",
       "    <tr>\n",
       "      <th>2</th>\n",
       "      <td>2023</td>\n",
       "      <td>14</td>\n",
       "      <td>2222052000</td>\n",
       "      <td>2402568000</td>\n",
       "      <td>-180516000.0</td>\n",
       "      <td>34888098000</td>\n",
       "      <td>-3.044076e+09</td>\n",
       "      <td>2.649234e+09</td>\n",
       "    </tr>\n",
       "    <tr>\n",
       "      <th>3</th>\n",
       "      <td>2023</td>\n",
       "      <td>13</td>\n",
       "      <td>2209116000</td>\n",
       "      <td>2858856000</td>\n",
       "      <td>-649740000.0</td>\n",
       "      <td>32666046000</td>\n",
       "      <td>-2.863560e+09</td>\n",
       "      <td>2.546040e+09</td>\n",
       "    </tr>\n",
       "    <tr>\n",
       "      <th>4</th>\n",
       "      <td>2023</td>\n",
       "      <td>12</td>\n",
       "      <td>2742138000</td>\n",
       "      <td>2641884000</td>\n",
       "      <td>100254000.0</td>\n",
       "      <td>30456930000</td>\n",
       "      <td>-2.213820e+09</td>\n",
       "      <td>2.625420e+09</td>\n",
       "    </tr>\n",
       "  </tbody>\n",
       "</table>\n",
       "</div>"
      ],
      "text/plain": [
       "   Fiscal Year  Fiscal Week  Current Year Production  \\\n",
       "0         2023           16               2393748000   \n",
       "1         2023           15               2367876000   \n",
       "2         2023           14               2222052000   \n",
       "3         2023           13               2209116000   \n",
       "4         2023           12               2742138000   \n",
       "\n",
       "   Previous Year Production  Difference From Same Week Last Year  \\\n",
       "0                2417856000                          -24108000.0   \n",
       "1                2324364000                           43512000.0   \n",
       "2                2402568000                         -180516000.0   \n",
       "3                2858856000                         -649740000.0   \n",
       "4                2641884000                          100254000.0   \n",
       "\n",
       "   Current Year Cumulative Production  Cumulative Difference    Production  \n",
       "0                         39649722000          -3.024672e+09  2.448138e+09  \n",
       "1                         37255974000          -3.000564e+09  2.570148e+09  \n",
       "2                         34888098000          -3.044076e+09  2.649234e+09  \n",
       "3                         32666046000          -2.863560e+09  2.546040e+09  \n",
       "4                         30456930000          -2.213820e+09  2.625420e+09  "
      ]
     },
     "execution_count": 228,
     "metadata": {},
     "output_type": "execute_result"
    }
   ],
   "source": [
    "df.head()"
   ]
  },
  {
   "cell_type": "code",
   "execution_count": 229,
   "id": "b90080fc",
   "metadata": {},
   "outputs": [],
   "source": [
    "production_scaler = StandardScaler()\n",
    "X_prod = np.array(df.drop(['Production'], 1))\n",
    "production_scaler.fit(X_prod)\n",
    "X_prod = production_scaler.transform(X_prod)"
   ]
  },
  {
   "cell_type": "markdown",
   "id": "7ff1605f",
   "metadata": {},
   "source": [
    "# Prediction of the feature productions"
   ]
  },
  {
   "cell_type": "code",
   "execution_count": 230,
   "id": "da81effc",
   "metadata": {},
   "outputs": [],
   "source": [
    "x_pred = X_prod[-forecast_production:] # data to be predicted\n",
    "X = X_prod[:-forecast_production] # data to be trained"
   ]
  },
  {
   "cell_type": "code",
   "execution_count": 231,
   "id": "15ff608f",
   "metadata": {},
   "outputs": [
    {
     "name": "stdout",
     "output_type": "stream",
     "text": [
      "(9, 7)\n",
      "(155, 7)\n",
      "[[-1.31673081 -0.53744782  0.41675074  0.28758556 -0.25476056 -0.47785052\n",
      "  -0.41879315]\n",
      " [-1.31673081 -0.6039195   0.24166845  0.73216195 -0.25476056 -0.54701791\n",
      "  -0.40329335]\n",
      " [-1.31673081 -0.67039118  0.07784146  0.10196813 -0.25476056 -0.61510129\n",
      "  -0.3179337 ]\n",
      " [-1.31673081 -0.73686285 -0.05221966 -0.1723835  -0.25476056 -0.68217035\n",
      "  -0.29512684]\n",
      " [-1.31673081 -0.80333453 -0.58371945 -0.01845684 -0.25476056 -0.74843415\n",
      "  -0.29435185]\n",
      " [-1.31673081 -0.86980621  0.45176719 -0.11986734  0.12977007 -0.81140721\n",
      "  -0.22770269]\n",
      " [-1.31673081 -0.93627788  0.8794682   0.53658456 -0.25476056 -0.88079141\n",
      "  -0.26512365]\n",
      " [-1.31673081 -1.00274956  1.01453167  0.44151221 -0.06363291 -0.95282367\n",
      "  -0.26014157]\n",
      " [-1.31673081 -1.06922123  0.35297076  0.25408388 -0.25476056 -1.02569217\n",
      "  -0.27874133]]\n",
      "[[ 1.82808258 -0.67039118 -0.57246416 ... -0.34804906 -0.7012721\n",
      "  -1.58836425]\n",
      " [ 1.82808258 -0.73686285 -0.68251588 ... -0.0863862  -0.76431485\n",
      "  -1.57928579]\n",
      " [ 1.82808258 -0.80333453 -1.3028074  ... -0.95328662 -0.82667623\n",
      "  -1.5956713 ]\n",
      " ...\n",
      " [-1.31673081 -0.33803279  0.54431068 ... -0.19332667 -0.27130847\n",
      "  -0.39155778]\n",
      " [-1.31673081 -0.40450447  0.39799192 ... -0.12051614 -0.34126564\n",
      "  -0.39753628]\n",
      " [-1.31673081 -0.47097615  0.15287672 ... -0.17057338 -0.41031688\n",
      "  -0.4106004 ]]\n"
     ]
    }
   ],
   "source": [
    "print(x_pred.shape)\n",
    "print(X.shape)\n",
    "print(x_pred)\n",
    "print(X)"
   ]
  },
  {
   "cell_type": "markdown",
   "id": "44c3d64a",
   "metadata": {},
   "source": [
    "# Trying to   get the Target variables for predictions"
   ]
  },
  {
   "cell_type": "code",
   "execution_count": 232,
   "id": "d38a897d",
   "metadata": {},
   "outputs": [],
   "source": [
    "df.dropna(inplace=True)\n",
    "y=np.array(df['Production'])"
   ]
  },
  {
   "cell_type": "code",
   "execution_count": 233,
   "id": "d4e8ae7d",
   "metadata": {},
   "outputs": [
    {
     "name": "stdout",
     "output_type": "stream",
     "text": [
      "(164, 7)\n",
      "[[ 1.6000000e+01  2.3937480e+09  2.4178560e+09 ...  3.9649722e+10\n",
      "  -3.0246720e+09  2.4481380e+09]\n",
      " [ 1.5000000e+01  2.3678760e+09  2.3243640e+09 ...  3.7255974e+10\n",
      "  -3.0005640e+09  2.5701480e+09]\n",
      " [ 1.4000000e+01  2.2220520e+09  2.4025680e+09 ...  3.4888098e+10\n",
      "  -3.0440760e+09  2.6492340e+09]\n",
      " ...\n",
      " [ 1.2000000e+01  2.7350820e+09  2.7483120e+09 ...  3.2833332e+10\n",
      "   4.8921600e+08  2.8194600e+09]\n",
      " [ 1.1000000e+01  2.7668340e+09  2.7174420e+09 ...  3.0098250e+10\n",
      "   5.0244600e+08  2.7500760e+09]\n",
      " [ 1.0000000e+01  2.6113080e+09  2.6565840e+09 ...  2.7331416e+10\n",
      "   4.5305400e+08  2.7812400e+09]] [16 15 14 13 12 11 10  9  8  7  6  5  4  3  2  1 53 52 51 50 49 48 47 46\n",
      " 45 44 43 42 41 40 39 38 37 36 35 34 33 32 31 30 29 28 27 26 25 24 23 22\n",
      " 21 20 19 18 17 16 15 14 13 12 11 10  9  8  7  6  5  4  3  2  1 52 51 50\n",
      " 49 48 47 46 45 44 43 42 41 40 39 38 37 36 35 34 33 32 31 30 29 28 27 26\n",
      " 25 24 23 22 21 20 19 18 17 16 15 14 13 12 11 10  9  8  7  6  5  4  3  2\n",
      "  1 52 51 50 49 48 47 46 45 44 43 42 41 40 39 38 37 36 35 34 33 32 31 30\n",
      " 29 28 27 26 25 24 23 22 21 20 19 18 17 16 15 14 13 12 11 10]\n"
     ]
    }
   ],
   "source": [
    "X = df.iloc[:,1:31].values\n",
    "y = df.iloc[:,1].values\n",
    "print(X.shape)\n",
    "print(X, y)"
   ]
  },
  {
   "cell_type": "code",
   "execution_count": 235,
   "id": "a982d04f",
   "metadata": {},
   "outputs": [],
   "source": [
    "x_train, x_test, y_train, y_test = train_test_split(X, y, test_size=0.2, random_state=42)"
   ]
  },
  {
   "cell_type": "code",
   "execution_count": 236,
   "id": "1e818e6e",
   "metadata": {},
   "outputs": [
    {
     "name": "stdout",
     "output_type": "stream",
     "text": [
      "x_train shape:  (131, 7)\n",
      "y_train shape:  (131,)\n",
      "x_test shape:  (33, 7)\n",
      "y_test shape:  (33,)\n"
     ]
    }
   ],
   "source": [
    "print(\"x_train shape: \", x_train.shape)\n",
    "print(\"y_train shape: \", y_train.shape)\n",
    "print(\"x_test shape: \", x_test.shape)\n",
    "print(\"y_test shape: \", y_test.shape)\n"
   ]
  },
  {
   "cell_type": "markdown",
   "id": "c451dee3",
   "metadata": {},
   "source": [
    "# Lets see what gives us the nearest accuracy with LinearRegression Model"
   ]
  },
  {
   "cell_type": "code",
   "execution_count": 237,
   "id": "1c005278",
   "metadata": {},
   "outputs": [],
   "source": [
    "lr= LinearRegression()\n",
    "lr.fit(x_train, y_train)\n",
    "lr_value = lr.score(x_test, y_test)"
   ]
  },
  {
   "cell_type": "code",
   "execution_count": 238,
   "id": "4f0b5ad6",
   "metadata": {},
   "outputs": [
    {
     "data": {
      "text/plain": [
       "1.0"
      ]
     },
     "execution_count": 238,
     "metadata": {},
     "output_type": "execute_result"
    }
   ],
   "source": [
    "lr_value"
   ]
  },
  {
   "cell_type": "code",
   "execution_count": 108,
   "id": "f88171ac",
   "metadata": {},
   "outputs": [],
   "source": [
    "# Lets see what we get using Random Forest"
   ]
  },
  {
   "cell_type": "code",
   "execution_count": 239,
   "id": "ce06fa72",
   "metadata": {},
   "outputs": [],
   "source": [
    "rf = RandomForestRegressor()\n",
    "rf.fit(x_train, y_train)\n",
    "rf_value = rf.score(x_test, y_test)"
   ]
  },
  {
   "cell_type": "code",
   "execution_count": 240,
   "id": "72434a52",
   "metadata": {},
   "outputs": [
    {
     "data": {
      "text/plain": [
       "0.9988386676684198"
      ]
     },
     "execution_count": 240,
     "metadata": {},
     "output_type": "execute_result"
    }
   ],
   "source": [
    "rf_value\n"
   ]
  },
  {
   "cell_type": "markdown",
   "id": "4cf39535",
   "metadata": {},
   "source": [
    "# Lets see what we get using Ridge"
   ]
  },
  {
   "cell_type": "code",
   "execution_count": 241,
   "id": "7ad57390",
   "metadata": {},
   "outputs": [],
   "source": [
    "rg = Ridge()\n",
    "rg.fit(x_train, y_train)\n",
    "rg_value = rg.score(x_test, y_test)"
   ]
  },
  {
   "cell_type": "code",
   "execution_count": 242,
   "id": "092ace52",
   "metadata": {},
   "outputs": [
    {
     "data": {
      "text/plain": [
       "0.9999989386633575"
      ]
     },
     "execution_count": 242,
     "metadata": {},
     "output_type": "execute_result"
    }
   ],
   "source": [
    "rg_value"
   ]
  },
  {
   "cell_type": "markdown",
   "id": "1bc1dc1b",
   "metadata": {},
   "source": [
    "# Lets see what we get using SVR"
   ]
  },
  {
   "cell_type": "code",
   "execution_count": 243,
   "id": "027f233a",
   "metadata": {},
   "outputs": [],
   "source": [
    "svr = SVR()\n",
    "svr.fit(x_train, y_train)\n",
    "svr_value= svr.score(x_test, y_test)\n"
   ]
  },
  {
   "cell_type": "code",
   "execution_count": 244,
   "id": "142e7c79",
   "metadata": {},
   "outputs": [
    {
     "data": {
      "text/plain": [
       "0.965796313370121"
      ]
     },
     "execution_count": 244,
     "metadata": {},
     "output_type": "execute_result"
    }
   ],
   "source": [
    "svr_value"
   ]
  },
  {
   "cell_type": "markdown",
   "id": "d83fb4b8",
   "metadata": {},
   "source": [
    "# Now lets check what models has the best accuracy"
   ]
  },
  {
   "cell_type": "code",
   "execution_count": 245,
   "id": "0e688d1a",
   "metadata": {},
   "outputs": [],
   "source": [
    "models = ['Linear Regression', 'Random Forest', 'Ridge', 'SVR']\n",
    "columns = ['models', 'accuracy']\n",
    "scores = [lr_value, rf_value, rg_value, svr_value]\n",
    "\n",
    "target_value = pd.DataFrame([[x,y] for x, y in zip(models, scores)], columns=columns)\n"
   ]
  },
  {
   "cell_type": "code",
   "execution_count": 246,
   "id": "3e9e643b",
   "metadata": {},
   "outputs": [
    {
     "data": {
      "text/html": [
       "<div>\n",
       "<style scoped>\n",
       "    .dataframe tbody tr th:only-of-type {\n",
       "        vertical-align: middle;\n",
       "    }\n",
       "\n",
       "    .dataframe tbody tr th {\n",
       "        vertical-align: top;\n",
       "    }\n",
       "\n",
       "    .dataframe thead th {\n",
       "        text-align: right;\n",
       "    }\n",
       "</style>\n",
       "<table border=\"1\" class=\"dataframe\">\n",
       "  <thead>\n",
       "    <tr style=\"text-align: right;\">\n",
       "      <th></th>\n",
       "      <th>models</th>\n",
       "      <th>accuracy</th>\n",
       "    </tr>\n",
       "  </thead>\n",
       "  <tbody>\n",
       "    <tr>\n",
       "      <th>0</th>\n",
       "      <td>Linear Regression</td>\n",
       "      <td>1.000000</td>\n",
       "    </tr>\n",
       "    <tr>\n",
       "      <th>1</th>\n",
       "      <td>Random Forest</td>\n",
       "      <td>0.998839</td>\n",
       "    </tr>\n",
       "    <tr>\n",
       "      <th>2</th>\n",
       "      <td>Ridge</td>\n",
       "      <td>0.999999</td>\n",
       "    </tr>\n",
       "    <tr>\n",
       "      <th>3</th>\n",
       "      <td>SVR</td>\n",
       "      <td>0.965796</td>\n",
       "    </tr>\n",
       "  </tbody>\n",
       "</table>\n",
       "</div>"
      ],
      "text/plain": [
       "              models  accuracy\n",
       "0  Linear Regression  1.000000\n",
       "1      Random Forest  0.998839\n",
       "2              Ridge  0.999999\n",
       "3                SVR  0.965796"
      ]
     },
     "execution_count": 246,
     "metadata": {},
     "output_type": "execute_result"
    }
   ],
   "source": [
    "target_value"
   ]
  },
  {
   "cell_type": "markdown",
   "id": "5bfa4a39",
   "metadata": {},
   "source": [
    "# Let check which model is best used by performance"
   ]
  },
  {
   "cell_type": "code",
   "execution_count": 247,
   "id": "8f0e7bd1",
   "metadata": {},
   "outputs": [
    {
     "data": {
      "image/png": "[encoded data removed]",
      "text/plain": [
       "<Figure size 612.875x500 with 1 Axes>"
      ]
     },
     "metadata": {},
     "output_type": "display_data"
    }
   ],
   "source": [
    "sns.displot(target_value, label='prediction')\n",
    "plt.title('Visualizing the model performance')\n",
    "plt.xticks(rotation='vertical')\n",
    "\n",
    "plt.show()\n"
   ]
  },
  {
   "cell_type": "markdown",
   "id": "f863280f",
   "metadata": {},
   "source": [
    "This shows that LinearRegression has the highest accuracy so we can use this model to try and predict the x_pred data"
   ]
  },
  {
   "cell_type": "code",
   "execution_count": 248,
   "id": "a7793188",
   "metadata": {},
   "outputs": [],
   "source": [
    "import datetime\n",
    "\n",
    "last_date = df.index[-1] #getting the lastdate in the dataset\n",
    "one_day = 86400 #one day equals 86400 seconds\n",
    "next_unix = last_date + one_day # getting the time in seconds for the next day\n",
    "forecast = lr.predict(x_pred) # predicting forecast data\n",
    "df['Prediction'] = np.nan\n",
    "for i in forecast:\n",
    "    next_date = datetime.datetime.fromtimestamp(next_unix)\n",
    "    next_unix += 86400\n",
    "    df.loc[next_date] = [np.nan for _ in range(len(df.columns)-1)]+[i]"
   ]
  },
  {
   "cell_type": "code",
   "execution_count": 249,
   "id": "8da452fb",
   "metadata": {},
   "outputs": [
    {
     "data": {
      "image/png": "[encoded data removed]",
      "text/plain": [
       "<Figure size 1000x500 with 1 Axes>"
      ]
     },
     "metadata": {},
     "output_type": "display_data"
    }
   ],
   "source": [
    "plt.figure(figsize=(10, 5))\n",
    "df['Current Year Production'].plot()\n",
    "df['Previous Year Production'].plot()\n",
    "df['Production'].plot()\n",
    "plt.legend(loc=4)\n",
    "plt.xlabel('Days')\n",
    "plt.ylabel('Productions')\n",
    "plt.show()\n",
    "\n",
    "\n"
   ]
  },
  {
   "cell_type": "code",
   "execution_count": 250,
   "id": "a026bcac",
   "metadata": {},
   "outputs": [
    {
     "data": {
      "text/html": [
       "<div>\n",
       "<style scoped>\n",
       "    .dataframe tbody tr th:only-of-type {\n",
       "        vertical-align: middle;\n",
       "    }\n",
       "\n",
       "    .dataframe tbody tr th {\n",
       "        vertical-align: top;\n",
       "    }\n",
       "\n",
       "    .dataframe thead th {\n",
       "        text-align: right;\n",
       "    }\n",
       "</style>\n",
       "<table border=\"1\" class=\"dataframe\">\n",
       "  <thead>\n",
       "    <tr style=\"text-align: right;\">\n",
       "      <th></th>\n",
       "      <th>Fiscal Year</th>\n",
       "      <th>Fiscal Week</th>\n",
       "      <th>Current Year Production</th>\n",
       "      <th>Previous Year Production</th>\n",
       "      <th>Difference From Same Week Last Year</th>\n",
       "      <th>Current Year Cumulative Production</th>\n",
       "      <th>Cumulative Difference</th>\n",
       "      <th>Production</th>\n",
       "      <th>Prediction</th>\n",
       "    </tr>\n",
       "  </thead>\n",
       "  <tbody>\n",
       "    <tr>\n",
       "      <th>0</th>\n",
       "      <td>2023.0</td>\n",
       "      <td>16.0</td>\n",
       "      <td>2.393748e+09</td>\n",
       "      <td>2.417856e+09</td>\n",
       "      <td>-24108000.0</td>\n",
       "      <td>3.964972e+10</td>\n",
       "      <td>-3.024672e+09</td>\n",
       "      <td>2.448138e+09</td>\n",
       "      <td>NaN</td>\n",
       "    </tr>\n",
       "    <tr>\n",
       "      <th>1</th>\n",
       "      <td>2023.0</td>\n",
       "      <td>15.0</td>\n",
       "      <td>2.367876e+09</td>\n",
       "      <td>2.324364e+09</td>\n",
       "      <td>43512000.0</td>\n",
       "      <td>3.725597e+10</td>\n",
       "      <td>-3.000564e+09</td>\n",
       "      <td>2.570148e+09</td>\n",
       "      <td>NaN</td>\n",
       "    </tr>\n",
       "    <tr>\n",
       "      <th>2</th>\n",
       "      <td>2023.0</td>\n",
       "      <td>14.0</td>\n",
       "      <td>2.222052e+09</td>\n",
       "      <td>2.402568e+09</td>\n",
       "      <td>-180516000.0</td>\n",
       "      <td>3.488810e+10</td>\n",
       "      <td>-3.044076e+09</td>\n",
       "      <td>2.649234e+09</td>\n",
       "      <td>NaN</td>\n",
       "    </tr>\n",
       "    <tr>\n",
       "      <th>3</th>\n",
       "      <td>2023.0</td>\n",
       "      <td>13.0</td>\n",
       "      <td>2.209116e+09</td>\n",
       "      <td>2.858856e+09</td>\n",
       "      <td>-649740000.0</td>\n",
       "      <td>3.266605e+10</td>\n",
       "      <td>-2.863560e+09</td>\n",
       "      <td>2.546040e+09</td>\n",
       "      <td>NaN</td>\n",
       "    </tr>\n",
       "    <tr>\n",
       "      <th>4</th>\n",
       "      <td>2023.0</td>\n",
       "      <td>12.0</td>\n",
       "      <td>2.742138e+09</td>\n",
       "      <td>2.641884e+09</td>\n",
       "      <td>100254000.0</td>\n",
       "      <td>3.045693e+10</td>\n",
       "      <td>-2.213820e+09</td>\n",
       "      <td>2.625420e+09</td>\n",
       "      <td>NaN</td>\n",
       "    </tr>\n",
       "  </tbody>\n",
       "</table>\n",
       "</div>"
      ],
      "text/plain": [
       "   Fiscal Year  Fiscal Week  Current Year Production  \\\n",
       "0       2023.0         16.0             2.393748e+09   \n",
       "1       2023.0         15.0             2.367876e+09   \n",
       "2       2023.0         14.0             2.222052e+09   \n",
       "3       2023.0         13.0             2.209116e+09   \n",
       "4       2023.0         12.0             2.742138e+09   \n",
       "\n",
       "   Previous Year Production  Difference From Same Week Last Year  \\\n",
       "0              2.417856e+09                          -24108000.0   \n",
       "1              2.324364e+09                           43512000.0   \n",
       "2              2.402568e+09                         -180516000.0   \n",
       "3              2.858856e+09                         -649740000.0   \n",
       "4              2.641884e+09                          100254000.0   \n",
       "\n",
       "   Current Year Cumulative Production  Cumulative Difference    Production  \\\n",
       "0                        3.964972e+10          -3.024672e+09  2.448138e+09   \n",
       "1                        3.725597e+10          -3.000564e+09  2.570148e+09   \n",
       "2                        3.488810e+10          -3.044076e+09  2.649234e+09   \n",
       "3                        3.266605e+10          -2.863560e+09  2.546040e+09   \n",
       "4                        3.045693e+10          -2.213820e+09  2.625420e+09   \n",
       "\n",
       "   Prediction  \n",
       "0         NaN  \n",
       "1         NaN  \n",
       "2         NaN  \n",
       "3         NaN  \n",
       "4         NaN  "
      ]
     },
     "execution_count": 250,
     "metadata": {},
     "output_type": "execute_result"
    }
   ],
   "source": [
    "df.head(5)"
   ]
  },
  {
   "cell_type": "code",
   "execution_count": 251,
   "id": "57dbee4c",
   "metadata": {},
   "outputs": [
    {
     "data": {
      "text/plain": [
       "<AxesSubplot:>"
      ]
     },
     "execution_count": 251,
     "metadata": {},
     "output_type": "execute_result"
    },
    {
     "data": {
      "image/png": "[encoded data removed]",
      "text/plain": [
       "<Figure size 640x480 with 1 Axes>"
      ]
     },
     "metadata": {},
     "output_type": "display_data"
    }
   ],
   "source": [
    "df['Production'].plot()"
   ]
  },
  {
   "cell_type": "code",
   "execution_count": null,
   "id": "409c5d80",
   "metadata": {},
   "outputs": [],
   "source": []
  },
  {
   "cell_type": "code",
   "execution_count": null,
   "id": "320cf332",
   "metadata": {},
   "outputs": [],
   "source": []
  }
 ],
 "metadata": {
  "kernelspec": {
   "display_name": "Python 3 (ipykernel)",
   "language": "python",
   "name": "python3"
  },
  "language_info": {
   "codemirror_mode": {
    "name": "ipython",
    "version": 3
   },
   "file_extension": ".py",
   "mimetype": "text/x-python",
   "name": "python",
   "nbconvert_exporter": "python",
   "pygments_lexer": "ipython3",
   "version": "3.9.13"
  }
 },
 "nbformat": 4,
 "nbformat_minor": 5
}
